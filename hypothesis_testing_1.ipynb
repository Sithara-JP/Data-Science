{
  "nbformat": 4,
  "nbformat_minor": 0,
  "metadata": {
    "colab": {
      "name": "CBENU4CSE19148_Hypothesis.ipynb",
      "provenance": [],
      "collapsed_sections": []
    },
    "kernelspec": {
      "name": "python3",
      "display_name": "Python 3"
    },
    "language_info": {
      "name": "python"
    }
  },
  "cells": [
    {
      "cell_type": "code",
      "metadata": {
        "id": "ckWamayTFR5N"
      },
      "source": [
        "import numpy as np\n",
        "import scipy.stats as st"
      ],
      "execution_count": 140,
      "outputs": []
    },
    {
      "cell_type": "markdown",
      "metadata": {
        "id": "hk4ZwW84BJYJ"
      },
      "source": [
        "1. Travel Times to Work                                                            \n",
        "Based on information from the U.S. Census Bureau, the mean travel time to work\n",
        "in minutes for all workers 16 years old and older was 25.3 minutes. A large\n",
        "company with offices in several states randomly sampled 100 of its workers to\n",
        "ascertain their commuting times. The sample mean was 23.9 minutes, and the\n",
        "population standard deviation is 6.39 minutes. At the 0.01 level of significance,\n",
        "can it be concluded that the mean commuting time is less for this particular\n",
        "company?\n"
      ]
    },
    {
      "cell_type": "code",
      "metadata": {
        "id": "vlWphCJFBYmU"
      },
      "source": [
        "#H0 : μ = 25.3, Ha :  μ < 25.3\n",
        "n = 100\n",
        "xbar = 23.9\n",
        "mu = 25.3\n",
        "sigma = 6.39\n",
        "alpha = 0.01"
      ],
      "execution_count": 141,
      "outputs": []
    },
    {
      "cell_type": "code",
      "metadata": {
        "colab": {
          "base_uri": "https://localhost:8080/"
        },
        "id": "2vXswSQWViVB",
        "outputId": "1e6b4701-2b6d-49e0-be6f-40eecefe5cbb"
      },
      "source": [
        "z_critical = abs(st.norm.ppf(alpha)) \n",
        "z_critical"
      ],
      "execution_count": 142,
      "outputs": [
        {
          "output_type": "execute_result",
          "data": {
            "text/plain": [
              "2.3263478740408408"
            ]
          },
          "metadata": {},
          "execution_count": 142
        }
      ]
    },
    {
      "cell_type": "code",
      "metadata": {
        "colab": {
          "base_uri": "https://localhost:8080/"
        },
        "id": "eKPch9FUVs_x",
        "outputId": "a7569da9-409a-445d-ecc7-82e0d8dfb7f3"
      },
      "source": [
        "z = (xbar-mu)/(sigma/np.sqrt(n))\n",
        "z"
      ],
      "execution_count": 143,
      "outputs": [
        {
          "output_type": "execute_result",
          "data": {
            "text/plain": [
              "-2.1909233176838843"
            ]
          },
          "metadata": {},
          "execution_count": 143
        }
      ]
    },
    {
      "cell_type": "code",
      "metadata": {
        "colab": {
          "base_uri": "https://localhost:8080/"
        },
        "id": "hgFTpF39VxSS",
        "outputId": "5562c0cc-5e6a-461e-d394-81e153b09015"
      },
      "source": [
        "if (z_critical > z): \n",
        "    print(\"Null hypothesis cannot be rejected\")\n",
        "else:\n",
        "    print(\"Reject null hypothesis\")"
      ],
      "execution_count": 144,
      "outputs": [
        {
          "output_type": "stream",
          "name": "stdout",
          "text": [
            "Null hypothesis cannot be rejected\n"
          ]
        }
      ]
    },
    {
      "cell_type": "markdown",
      "metadata": {
        "id": "Jk6qB7gUBZDw"
      },
      "source": [
        "2. Time Until Indigestion Relief                                                   \n",
        "An advertisement claims that Fasto Stomach Calm will provide relief from\n",
        "indigestion in less than 10 minutes. For a test of the claim, 35 randomly selected\n",
        "individuals were given the product; the average time until relief was 9.25 minutes.\n",
        "From past studies, the standard deviation of the population is known to be 2\n",
        "minutes. Can you,conclude that the claim is justified? Find the P‐value,and let α = 0.05.\n"
      ]
    },
    {
      "cell_type": "code",
      "metadata": {
        "id": "yrDU15TGBcKr"
      },
      "source": [
        "#H0 : μ =10 and Ha : μ < 10\n",
        "n = 35\n",
        "xbar = 9.25\n",
        "mu = 10\n",
        "sigma = 2\n",
        "alpha = 0.05"
      ],
      "execution_count": 145,
      "outputs": []
    },
    {
      "cell_type": "code",
      "metadata": {
        "colab": {
          "base_uri": "https://localhost:8080/"
        },
        "id": "tj6MvCXMYYbS",
        "outputId": "92ed470b-c1f7-4c8d-b867-f9c8c8771fc8"
      },
      "source": [
        "z = (xbar-mu)/(sigma/np.sqrt(n))\n",
        "z"
      ],
      "execution_count": 146,
      "outputs": [
        {
          "output_type": "execute_result",
          "data": {
            "text/plain": [
              "-2.218529918662356"
            ]
          },
          "metadata": {},
          "execution_count": 146
        }
      ]
    },
    {
      "cell_type": "code",
      "metadata": {
        "colab": {
          "base_uri": "https://localhost:8080/"
        },
        "id": "io0vzhxOYigQ",
        "outputId": "2e2cf1f9-58c0-487a-f374-5287307157c3"
      },
      "source": [
        "p_val = (1 - st.norm.cdf(abs(z))) * 2\n",
        "p_val"
      ],
      "execution_count": 147,
      "outputs": [
        {
          "output_type": "execute_result",
          "data": {
            "text/plain": [
              "0.026518721959430724"
            ]
          },
          "metadata": {},
          "execution_count": 147
        }
      ]
    },
    {
      "cell_type": "code",
      "metadata": {
        "colab": {
          "base_uri": "https://localhost:8080/"
        },
        "id": "tY9vUU94Yb6e",
        "outputId": "2c78fdf7-cefc-499c-b526-5fffd0bdde2b"
      },
      "source": [
        "if (p_val > alpha):\n",
        "    print(\"Null hypothesis cannot be rejected\")\n",
        "else:\n",
        "    print(\"Reject null hypothesis\")"
      ],
      "execution_count": 148,
      "outputs": [
        {
          "output_type": "stream",
          "name": "stdout",
          "text": [
            "Reject null hypothesis\n"
          ]
        }
      ]
    },
    {
      "cell_type": "markdown",
      "metadata": {
        "id": "shh_HGF3DgGH"
      },
      "source": [
        "3. Trifecta Winnings                                                            \n",
        "A random sample of $1 Trifects tickets at a local racetrack paid the following amounts, (in dollars and cents). Is there sufficient evidence to conclude that the average Trifects winnings exceed $50? Use α = 0.10. Assume the variable is\n",
        "normally distributed.\n",
        "8.90,70.20,15.00,29.10,141.00,48.60,83.00,72.70,75.30,59.20,32.40,19.00,190.10 "
      ]
    },
    {
      "cell_type": "code",
      "metadata": {
        "id": "zzrNc2p6Bhze"
      },
      "source": [
        "#H0 : μ = 50, Ha : μ > 50\n",
        "n = 13\n",
        "degrees_of_freedom = n - 1\n",
        "xbar = 59.73\n",
        "mu = 50\n",
        "s = 54.17723\n",
        "alpha = 0.10"
      ],
      "execution_count": 149,
      "outputs": []
    },
    {
      "cell_type": "code",
      "metadata": {
        "colab": {
          "base_uri": "https://localhost:8080/"
        },
        "id": "DXhdvJopiZN0",
        "outputId": "58e43e2a-de31-44cf-aa8d-497bdf1a53c3"
      },
      "source": [
        "t = (xbar-mu)/(s/np.sqrt(n))\n",
        "t"
      ],
      "execution_count": 150,
      "outputs": [
        {
          "output_type": "execute_result",
          "data": {
            "text/plain": [
              "0.6475416685250354"
            ]
          },
          "metadata": {},
          "execution_count": 150
        }
      ]
    },
    {
      "cell_type": "code",
      "metadata": {
        "colab": {
          "base_uri": "https://localhost:8080/"
        },
        "id": "04TGDSRjieNI",
        "outputId": "237a4e4f-7106-4633-8be1-7be4a53f8ec4"
      },
      "source": [
        "p_val = (1 - st.t.cdf(abs(t), degrees_of_freedom)) \n",
        "p_val"
      ],
      "execution_count": 151,
      "outputs": [
        {
          "output_type": "execute_result",
          "data": {
            "text/plain": [
              "0.2647376565885107"
            ]
          },
          "metadata": {},
          "execution_count": 151
        }
      ]
    },
    {
      "cell_type": "code",
      "metadata": {
        "colab": {
          "base_uri": "https://localhost:8080/"
        },
        "id": "lj16QtrGi2_S",
        "outputId": "21489828-501d-4407-ad5b-172b5866e772"
      },
      "source": [
        "if (p_val > alpha):\n",
        "    print(\"Null hypothesis cannot be rejected\")\n",
        "else:\n",
        "    print(\"Reject null hypothesis\")"
      ],
      "execution_count": 152,
      "outputs": [
        {
          "output_type": "stream",
          "name": "stdout",
          "text": [
            "Null hypothesis cannot be rejected\n"
          ]
        }
      ]
    },
    {
      "cell_type": "markdown",
      "metadata": {
        "id": "sjgosPdbB8sc"
      },
      "source": [
        "4. Whooping Crane Eggs                                                          \n",
        "Once down to about 15, the world’s only wild flock of whooping cranes now\n",
        "numbers a record 237 birds in its Texas Coastal Bend, wintering ground. The\n",
        "average whooping crane egg weighs 208 grams. A new batch of randomly selected\n",
        "eggs was recently weighed, and their weights are listed below. At α = 0.01, is there\n",
        "sufficient evidence to conclude that the weight is greater than 208 grams? Assume\n",
        "the variable is normally distributed.\n",
        "210,210.2,208.5,209,211.6,206.4,212,209.7,210.3"
      ]
    },
    {
      "cell_type": "code",
      "metadata": {
        "id": "M8wgyGXjCAFB"
      },
      "source": [
        "#H0 : μ <= 208, Ha : μ > 208\n",
        "n = 15\n",
        "degrees_of_freedom = n-1\n",
        "xbar = 209.74\n",
        "mu = 208\n",
        "s = 1.6734\n",
        "alpha = 0.01"
      ],
      "execution_count": 153,
      "outputs": []
    },
    {
      "cell_type": "code",
      "metadata": {
        "colab": {
          "base_uri": "https://localhost:8080/"
        },
        "id": "5Ju50kUsi8PI",
        "outputId": "45520a3b-5eb3-4fc4-fb32-febd73dd7231"
      },
      "source": [
        "t = (xbar - mu)/(s / np.sqrt(n))\n",
        "t"
      ],
      "execution_count": 154,
      "outputs": [
        {
          "output_type": "execute_result",
          "data": {
            "text/plain": [
              "4.027125028326127"
            ]
          },
          "metadata": {},
          "execution_count": 154
        }
      ]
    },
    {
      "cell_type": "code",
      "metadata": {
        "colab": {
          "base_uri": "https://localhost:8080/"
        },
        "id": "s7OM_ztPjDre",
        "outputId": "d8d66a63-df3b-4ffa-8d8f-bcf5f739da49"
      },
      "source": [
        "t_critical = st.t.ppf(alpha/2, degrees_of_freedom)\n",
        "t_critical"
      ],
      "execution_count": 155,
      "outputs": [
        {
          "output_type": "execute_result",
          "data": {
            "text/plain": [
              "-2.9768427341126604"
            ]
          },
          "metadata": {},
          "execution_count": 155
        }
      ]
    },
    {
      "cell_type": "code",
      "metadata": {
        "colab": {
          "base_uri": "https://localhost:8080/"
        },
        "id": "MNoKcYawjGOU",
        "outputId": "693212a2-a979-4283-e4b2-3a4c862a9cea"
      },
      "source": [
        "if (abs(t) > abs(t_critical)): \n",
        "    print(\"Null hypothesis cannot be rejected\")\n",
        "else:\n",
        "    print(\"Reject null hypothesis\")"
      ],
      "execution_count": 156,
      "outputs": [
        {
          "output_type": "stream",
          "name": "stdout",
          "text": [
            "Null hypothesis cannot be rejected\n"
          ]
        }
      ]
    },
    {
      "cell_type": "markdown",
      "metadata": {
        "id": "DmG_lnl5CRQt"
      },
      "source": [
        "5. Federal Prison Populations                                                   \n",
        "Nationally 60.2% of federal prisoners are serving time for drug offences. A warden\n",
        "feels that in his prison the percentage is even higher. He surveys 400 randomly\n",
        "selected inmates’ records and finds that 260 of the inmates are drug offenders. At\n",
        "α = 0.05, is he correct?\n"
      ]
    },
    {
      "cell_type": "code",
      "metadata": {
        "id": "JLXJAELsCbWw"
      },
      "source": [
        "#H0 :  p = 0.602, Ha :  p > 0.602\n",
        "n = 400\n",
        "xbar = 0.65\n",
        "mu = 0.602\n",
        "sigma = 0.398\n",
        "alpha = 0.05\n"
      ],
      "execution_count": 157,
      "outputs": []
    },
    {
      "cell_type": "code",
      "metadata": {
        "colab": {
          "base_uri": "https://localhost:8080/"
        },
        "id": "cE-g1ufdduA0",
        "outputId": "ba6b9921-b6d0-40b4-eb39-564735f885c4"
      },
      "source": [
        "z = (xbar-mu)/(sigma/np.sqrt(n))\n",
        "z"
      ],
      "execution_count": 158,
      "outputs": [
        {
          "output_type": "execute_result",
          "data": {
            "text/plain": [
              "2.4120603015075397"
            ]
          },
          "metadata": {},
          "execution_count": 158
        }
      ]
    },
    {
      "cell_type": "code",
      "metadata": {
        "colab": {
          "base_uri": "https://localhost:8080/"
        },
        "id": "iUgx0tYzdutU",
        "outputId": "7c0dc87f-1011-4882-dbbe-8337688560a7"
      },
      "source": [
        "p_val = (1 - st.norm.cdf(abs(z))) * 2\n",
        "p_val"
      ],
      "execution_count": 159,
      "outputs": [
        {
          "output_type": "execute_result",
          "data": {
            "text/plain": [
              "0.015862657734413865"
            ]
          },
          "metadata": {},
          "execution_count": 159
        }
      ]
    },
    {
      "cell_type": "code",
      "metadata": {
        "colab": {
          "base_uri": "https://localhost:8080/"
        },
        "id": "tPEUZCyxdw3W",
        "outputId": "b4d17c31-fcf6-4474-86ac-773f759a053e"
      },
      "source": [
        "if (p_val > alpha):\n",
        "    print(\"Null hypothesis cannot be rejected\")\n",
        "else:\n",
        "    print(\"Reject null hypothesis\")"
      ],
      "execution_count": 160,
      "outputs": [
        {
          "output_type": "stream",
          "name": "stdout",
          "text": [
            "Reject null hypothesis\n"
          ]
        }
      ]
    },
    {
      "cell_type": "markdown",
      "metadata": {
        "id": "k-h4z42_CZZu"
      },
      "source": [
        "6. MP3 Ownership                                                                \n",
        "An MP3 manufacturer claims that 65%,of teenagers 13 to 16 years old have their\n",
        "own MP3 players. A researcher wishes to test the claim and selects a,random\n",
        "sample of 80 teenagers. She finds that 57 have their own MP3 players. At α = 0.05,\n",
        "should the claim be,rejected? Use the P-value method.\n"
      ]
    },
    {
      "cell_type": "code",
      "metadata": {
        "id": "vefaiQMBCi5U"
      },
      "source": [
        "#H0 : μ = 0.65 and Ha : μ!=0.65\n",
        "n = 80\n",
        "xbar = 0.71\n",
        "mu = 0.65\n",
        "sigma = 0.35\n",
        "alpha = 0.05"
      ],
      "execution_count": 161,
      "outputs": []
    },
    {
      "cell_type": "code",
      "metadata": {
        "colab": {
          "base_uri": "https://localhost:8080/"
        },
        "id": "J_PUTSBSkZtN",
        "outputId": "bc7825d9-876e-4ce6-c52d-b01861229c8d"
      },
      "source": [
        "z = (xbar-mu)/(sigma/np.sqrt(n))\n",
        "z"
      ],
      "execution_count": 162,
      "outputs": [
        {
          "output_type": "execute_result",
          "data": {
            "text/plain": [
              "1.5333037559998546"
            ]
          },
          "metadata": {},
          "execution_count": 162
        }
      ]
    },
    {
      "cell_type": "code",
      "metadata": {
        "colab": {
          "base_uri": "https://localhost:8080/"
        },
        "id": "OUaTYp14kgKP",
        "outputId": "5214315b-4f74-4857-f9bf-3fbdf33a461d"
      },
      "source": [
        "p_val = (1 - st.norm.cdf(abs(z))) * 2\n",
        "p_val"
      ],
      "execution_count": 163,
      "outputs": [
        {
          "output_type": "execute_result",
          "data": {
            "text/plain": [
              "0.12520102961031565"
            ]
          },
          "metadata": {},
          "execution_count": 163
        }
      ]
    },
    {
      "cell_type": "code",
      "metadata": {
        "colab": {
          "base_uri": "https://localhost:8080/"
        },
        "id": "xPqVrBfMkk2n",
        "outputId": "930ab069-3e1f-4f64-a60e-45d2bf4d8c8f"
      },
      "source": [
        "if (p_val > alpha):\n",
        "    print(\"Null hypothesis cannot be rejected\")\n",
        "else:\n",
        "    print(\"Reject null hypothesis\")"
      ],
      "execution_count": 164,
      "outputs": [
        {
          "output_type": "stream",
          "name": "stdout",
          "text": [
            "Null hypothesis cannot be rejected\n"
          ]
        }
      ]
    },
    {
      "cell_type": "markdown",
      "metadata": {
        "id": "y4QNKUdECjT1"
      },
      "source": [
        "7. Men Aged 65 and Over in the Labour Force                                     \n",
        "Of men,aged 65 and over 20.5% are still in the U.S. labour force.,A random sample\n",
        "of 120 retired male teachers indicated that 38 were still working. Use both a\n",
        "confidence,interval and a hypothesis test. Test the claim that the,proportion is\n",
        "greater than 20.5% at α = 0.10.\n"
      ]
    },
    {
      "cell_type": "code",
      "metadata": {
        "id": "lIf55U_uCnBi"
      },
      "source": [
        "#H0 : μ = 0.205 and Ha : μ > 0.205\n",
        "n =120\n",
        "xbar = 0.317\n",
        "mu = 0.205\n",
        "sigma = 0.359\n",
        "alpha = 0.10"
      ],
      "execution_count": 165,
      "outputs": []
    },
    {
      "cell_type": "code",
      "metadata": {
        "colab": {
          "base_uri": "https://localhost:8080/"
        },
        "id": "Kr2g673IkzdH",
        "outputId": "25cdf8a4-27f3-4d74-f62a-5393d0f40ceb"
      },
      "source": [
        "z = (xbar-mu)/(sigma/np.sqrt(n))\n",
        "z"
      ],
      "execution_count": 166,
      "outputs": [
        {
          "output_type": "execute_result",
          "data": {
            "text/plain": [
              "3.4175446485002015"
            ]
          },
          "metadata": {},
          "execution_count": 166
        }
      ]
    },
    {
      "cell_type": "code",
      "metadata": {
        "colab": {
          "base_uri": "https://localhost:8080/"
        },
        "id": "bNS9CboNk26K",
        "outputId": "ea16dee9-0e8f-45f0-deb4-46cd76144a88"
      },
      "source": [
        "p_val = (1 - st.norm.cdf(abs(z))) * 2\n",
        "p_val"
      ],
      "execution_count": 167,
      "outputs": [
        {
          "output_type": "execute_result",
          "data": {
            "text/plain": [
              "0.0006318872872197456"
            ]
          },
          "metadata": {},
          "execution_count": 167
        }
      ]
    },
    {
      "cell_type": "code",
      "metadata": {
        "colab": {
          "base_uri": "https://localhost:8080/"
        },
        "id": "FW3HT3idk9nC",
        "outputId": "a1e0eeca-a3bd-4acb-e730-9ce21479d818"
      },
      "source": [
        "if (p_val > alpha):\n",
        "    print(\"Null hypothesis cannot be rejected\")\n",
        "else:\n",
        "    print(\"Reject null hypothesis\")"
      ],
      "execution_count": 168,
      "outputs": [
        {
          "output_type": "stream",
          "name": "stdout",
          "text": [
            "Reject null hypothesis\n"
          ]
        }
      ]
    },
    {
      "cell_type": "markdown",
      "metadata": {
        "id": "mzCBW3E4Ec2u"
      },
      "source": [
        "8. Movie Admission Prices                   \n",
        "The average movie admission price for a recent year was $7.18. The\n",
        "population,variance was 3.81. A random sample of 15 theatre admission prices\n",
        "had a mean of $8.02 with a standard,deviation of $2.08. At α = 0.05, is there\n",
        "sufficient evidence to conclude a difference from the population variance?\n",
        "Assume the variable is normally distributed."
      ]
    },
    {
      "cell_type": "code",
      "metadata": {
        "id": "fVWcGurNCuPP"
      },
      "source": [
        "#H0 : σ2 = 3.81, Ha : σ2 != 3.81\n",
        "n = 15\n",
        "degrees_of_freedom = n-1\n",
        "s_square = 4.326\n",
        "sigma_square = 3.81 \n",
        "alpha = 0.05"
      ],
      "execution_count": 169,
      "outputs": []
    },
    {
      "cell_type": "code",
      "metadata": {
        "colab": {
          "base_uri": "https://localhost:8080/"
        },
        "id": "KTHnoG6clGjt",
        "outputId": "17ea13a9-dd38-492f-f2fd-c9282874c869"
      },
      "source": [
        "chi_square = ((n-1)*s_square)/sigma_square\n",
        "chi_square"
      ],
      "execution_count": 170,
      "outputs": [
        {
          "output_type": "execute_result",
          "data": {
            "text/plain": [
              "15.896062992125982"
            ]
          },
          "metadata": {},
          "execution_count": 170
        }
      ]
    },
    {
      "cell_type": "code",
      "metadata": {
        "colab": {
          "base_uri": "https://localhost:8080/"
        },
        "id": "gqc2VaM3lKfY",
        "outputId": "13b9a952-c055-458d-bdfa-38f9d854114e"
      },
      "source": [
        "chi_square_critical =  st.chi2.ppf(alpha, degrees_of_freedom) \n",
        "chi_square_critical"
      ],
      "execution_count": 171,
      "outputs": [
        {
          "output_type": "execute_result",
          "data": {
            "text/plain": [
              "6.57063138378934"
            ]
          },
          "metadata": {},
          "execution_count": 171
        }
      ]
    },
    {
      "cell_type": "code",
      "metadata": {
        "colab": {
          "base_uri": "https://localhost:8080/"
        },
        "id": "xbrBOWAzlPqP",
        "outputId": "1c15ec84-64f2-4cff-83a8-b7d835be2645"
      },
      "source": [
        "if (chi_square > chi_square_critical):\n",
        "    print(\"Null hypothesis cannot be rejected\")\n",
        "else:\n",
        "    print(\"Reject null hypothesis\")"
      ],
      "execution_count": 172,
      "outputs": [
        {
          "output_type": "stream",
          "name": "stdout",
          "text": [
            "Null hypothesis cannot be rejected\n"
          ]
        }
      ]
    },
    {
      "cell_type": "markdown",
      "metadata": {
        "id": "PUeeS442Cus7"
      },
      "source": [
        "9. Fuel Consumption                                                             \n",
        "The standard deviation of fuel,consumption of a manufacturer’s sport utility\n",
        "vehicle,is hypothesized to be 3.3 miles per gallon. A random,sample of 18 vehicles\n",
        "has a standard deviation of,2.8 miles per gallon. At α = 0.10, is the claim,\n",
        "believable?\n"
      ]
    },
    {
      "cell_type": "code",
      "metadata": {
        "id": "IBTCDkC0CzRX"
      },
      "source": [
        "#H0 : σ2 = 3.3, Ha : σ2 !=3.3\n",
        "n = 18\n",
        "degrees_of_freedom = n-1\n",
        "s_square = 2.8\n",
        "sigma_square = 3.3 \n",
        "alpha = 0.10"
      ],
      "execution_count": 173,
      "outputs": []
    },
    {
      "cell_type": "code",
      "metadata": {
        "colab": {
          "base_uri": "https://localhost:8080/"
        },
        "id": "Iv8g28Twl1Yz",
        "outputId": "0e756281-0fdc-4452-d2d0-d776563225dc"
      },
      "source": [
        "chi_square = ((n-1)*s_square)/sigma_square\n",
        "chi_square"
      ],
      "execution_count": 174,
      "outputs": [
        {
          "output_type": "execute_result",
          "data": {
            "text/plain": [
              "14.424242424242424"
            ]
          },
          "metadata": {},
          "execution_count": 174
        }
      ]
    },
    {
      "cell_type": "code",
      "metadata": {
        "colab": {
          "base_uri": "https://localhost:8080/"
        },
        "id": "EcxCesRhl4PG",
        "outputId": "8d95952a-369c-4c8e-bfa5-b19362edccfd"
      },
      "source": [
        "p_val = st.chi2.cdf(chi_square, degrees_of_freedom)*2\n",
        "p_val"
      ],
      "execution_count": 175,
      "outputs": [
        {
          "output_type": "execute_result",
          "data": {
            "text/plain": [
              "0.7262460083554299"
            ]
          },
          "metadata": {},
          "execution_count": 175
        }
      ]
    },
    {
      "cell_type": "code",
      "metadata": {
        "colab": {
          "base_uri": "https://localhost:8080/"
        },
        "id": "GG1yAuqWl7Kw",
        "outputId": "bdfcd055-8c83-44ab-f3a9-94bd26253424"
      },
      "source": [
        "if (p_val > alpha):\n",
        "    print(\"Null hypothesis cannot be rejected\")\n",
        "else:\n",
        "    print(\"Reject null hypothesis\")"
      ],
      "execution_count": 176,
      "outputs": [
        {
          "output_type": "stream",
          "name": "stdout",
          "text": [
            "Null hypothesis cannot be rejected\n"
          ]
        }
      ]
    },
    {
      "cell_type": "markdown",
      "metadata": {
        "id": "_MJ6rYlmCzuy"
      },
      "source": [
        "10. Tire Inflation                                                              \n",
        "To see whether people are keeping their car tires inflated to the correct level of 35\n",
        "pounds per square inch (psi), a tire company manager selects a random sample of\n",
        "36 tires and checks the pressure. The mean of the sample is 33.5 psi, and the\n",
        "population standard deviation is 3 psi. Are the tires properly inflated? Use α = 0.10.\n",
        "Find the 90% confidence interval of the mean. Do the results agree? Explain."
      ]
    },
    {
      "cell_type": "code",
      "metadata": {
        "id": "D2KdFvC0C7Z9"
      },
      "source": [
        "#H0 : μ = 35, Ha :  μ != 35\n",
        "n = 20\n",
        "xbar = 4.2\n",
        "mu = 4\n",
        "sigma = 0.6\n",
        "alpha = 0.10"
      ],
      "execution_count": 177,
      "outputs": []
    },
    {
      "cell_type": "code",
      "metadata": {
        "colab": {
          "base_uri": "https://localhost:8080/"
        },
        "id": "tjdTNt55lk5r",
        "outputId": "0b10ed90-cf7f-450b-e893-acfe6be6f771"
      },
      "source": [
        "z_critical = abs(st.norm.ppf(alpha)) \n",
        "z_critical"
      ],
      "execution_count": 178,
      "outputs": [
        {
          "output_type": "execute_result",
          "data": {
            "text/plain": [
              "1.2815515655446004"
            ]
          },
          "metadata": {},
          "execution_count": 178
        }
      ]
    },
    {
      "cell_type": "code",
      "metadata": {
        "colab": {
          "base_uri": "https://localhost:8080/"
        },
        "id": "2sgRrxdLlpIZ",
        "outputId": "83d8bc74-b367-44ac-847b-31af3f0d2c3a"
      },
      "source": [
        "z = (xbar-mu)/(sigma/np.sqrt(n))\n",
        "z"
      ],
      "execution_count": 179,
      "outputs": [
        {
          "output_type": "execute_result",
          "data": {
            "text/plain": [
              "1.4907119849998614"
            ]
          },
          "metadata": {},
          "execution_count": 179
        }
      ]
    },
    {
      "cell_type": "code",
      "metadata": {
        "colab": {
          "base_uri": "https://localhost:8080/"
        },
        "id": "ICqnZmyblt6D",
        "outputId": "75a001b4-4879-4306-c2e0-492f41f3e3f9"
      },
      "source": [
        "if (z < z_critical): #Right-tailed test\n",
        "    print(\"Null hypothesis cannot be rejected\")\n",
        "else:\n",
        "    print(\"Reject null hypothesis\")"
      ],
      "execution_count": 180,
      "outputs": [
        {
          "output_type": "stream",
          "name": "stdout",
          "text": [
            "Reject null hypothesis\n"
          ]
        }
      ]
    }
  ]
}