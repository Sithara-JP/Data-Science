{
  "nbformat": 4,
  "nbformat_minor": 0,
  "metadata": {
    "colab": {
      "name": "data science.ipynb",
      "provenance": [],
      "collapsed_sections": []
    },
    "kernelspec": {
      "name": "python3",
      "display_name": "Python 3"
    },
    "language_info": {
      "name": "python"
    }
  },
  "cells": [
    {
      "cell_type": "code",
      "metadata": {
        "id": "MFyEMWGpRGse"
      },
      "source": [
        "import pandas as pd\n",
        "import numpy as np"
      ],
      "execution_count": null,
      "outputs": []
    },
    {
      "cell_type": "markdown",
      "metadata": {
        "id": "1UsrKhzTLHQc"
      },
      "source": [
        "Dataset for questions 1-3 may be loaded from this [link](https://raw.githubusercontent.com/Yorko/mlcourse.ai/master/data/telecom_churn.csv)."
      ]
    },
    {
      "cell_type": "code",
      "metadata": {
        "id": "hrWtCBYxOltT"
      },
      "source": [
        "dataset = pd.read_csv(\"https://raw.githubusercontent.com/Yorko/mlcourse.ai/master/data/telecom_churn.csv\") # Type your code here"
      ],
      "execution_count": null,
      "outputs": []
    },
    {
      "cell_type": "markdown",
      "metadata": {
        "id": "JssNB5zSLW6J"
      },
      "source": [
        "Q1. How many records are there where the state name starts with 'W'?"
      ]
    },
    {
      "cell_type": "code",
      "metadata": {
        "colab": {
          "base_uri": "https://localhost:8080/"
        },
        "id": "xCBpq8Y1RS8d",
        "outputId": "085d0bc9-d8c8-4a1c-c1dc-2ffd4fd84b84"
      },
      "source": [
        "def q1():\n",
        "    # Type your code here\n",
        "    return dataset[\"State\"].str.startswith(\"W\").sum() # Type your code here\n",
        "\n",
        "q1()"
      ],
      "execution_count": null,
      "outputs": [
        {
          "output_type": "execute_result",
          "data": {
            "text/plain": [
              "327"
            ]
          },
          "metadata": {},
          "execution_count": 30
        }
      ]
    },
    {
      "cell_type": "markdown",
      "metadata": {
        "id": "ok8YKTtKLgyG"
      },
      "source": [
        "Q2. What is the percentage of voice mail plan for churn=0 users?"
      ]
    },
    {
      "cell_type": "code",
      "metadata": {
        "colab": {
          "base_uri": "https://localhost:8080/"
        },
        "id": "bRHwkQVARZW2",
        "outputId": "b0691382-3e35-471d-9bd4-4e30767e9aff"
      },
      "source": [
        "def q2():\n",
        "  # Type your code here\n",
        "  return dataset[dataset[\"Voice mail plan\"] == \"Yes\"][dataset[\"Churn\"] == False].shape[0]/dataset[dataset[\"Voice mail plan\"] == \"Yes\"].shape[0]*100 \n",
        "  # Type your code here\n",
        "\n",
        "q2()"
      ],
      "execution_count": null,
      "outputs": [
        {
          "output_type": "stream",
          "name": "stderr",
          "text": [
            "/usr/local/lib/python3.7/dist-packages/ipykernel_launcher.py:3: UserWarning: Boolean Series key will be reindexed to match DataFrame index.\n",
            "  This is separate from the ipykernel package so we can avoid doing imports until\n"
          ]
        },
        {
          "output_type": "execute_result",
          "data": {
            "text/plain": [
              "91.3232104121475"
            ]
          },
          "metadata": {},
          "execution_count": 31
        }
      ]
    },
    {
      "cell_type": "markdown",
      "metadata": {
        "id": "zCm_D8CBL1Wx"
      },
      "source": [
        "Q3. How many customers made day calls below average for whom day charge was above average?"
      ]
    },
    {
      "cell_type": "code",
      "metadata": {
        "colab": {
          "base_uri": "https://localhost:8080/"
        },
        "id": "D9Fk7O6mRerc",
        "outputId": "4e673d37-be41-4bbc-8213-644ca988cffb"
      },
      "source": [
        "def q3():\n",
        "  # Type your code here\n",
        "  num = (dataset[\"Total day calls\"] < dataset[\"Total day calls\"].mean()) & (dataset[\"Total day charge\"] > dataset[\"Total day charge\"].mean())\n",
        "  return dataset.loc[num].shape[0] \n",
        "  # Type your code here\n",
        "\n",
        "q3()"
      ],
      "execution_count": null,
      "outputs": [
        {
          "output_type": "execute_result",
          "data": {
            "text/plain": [
              "811"
            ]
          },
          "metadata": {},
          "execution_count": 32
        }
      ]
    },
    {
      "cell_type": "markdown",
      "metadata": {
        "id": "5voNOEl2OZ3l"
      },
      "source": [
        "\n",
        "\n",
        "---\n",
        "\n"
      ]
    },
    {
      "cell_type": "code",
      "metadata": {
        "id": "P7UaPOLNOYAz"
      },
      "source": [
        "# Dataset for questions 4-7\n",
        "data = {'Refinery Location':['Baytown','Baton Rouge','Texas City','Lake Charles','Whiting','Beaumont','Philadelphia','Pascagoula','Deer Park','Wood River','Port Arthur'],\n",
        "        'Company':['Texas ExxonMobil','Louisiana ExxonMobil','Texas BP','Louisiana Citgo','Indiana BP','Texas ExxonMobil','Pennsylvania Sunoco','Mississippi Chevron','Texas partnership','Illinois WRB','Texas Premcor'],\n",
        "        'Capacity':['567,000','503,000','467,720','429,500','410,000','348,500','335,000','330,000','329,800','306,000','289,000']}"
      ],
      "execution_count": null,
      "outputs": []
    },
    {
      "cell_type": "markdown",
      "metadata": {
        "id": "IBm5_Gg3OY7Q"
      },
      "source": [
        "Load the dictionary `data` created in the above block into a Pandas DataFrame named `df`."
      ]
    },
    {
      "cell_type": "code",
      "metadata": {
        "id": "KU7GUCK8RkXG"
      },
      "source": [
        "df = pd.DataFrame(data) # Type your code here"
      ],
      "execution_count": null,
      "outputs": []
    },
    {
      "cell_type": "markdown",
      "metadata": {
        "id": "lCPHvdFfPDuJ"
      },
      "source": [
        "Q4. What is the IQR for the 'Capacity' attribute?"
      ]
    },
    {
      "cell_type": "code",
      "metadata": {
        "id": "AIHtu0NUSI4L"
      },
      "source": [
        "df[\"Capacity\"] = df[\"Capacity\"].astype(str).str.replace(',', '')\n",
        "df[\"Capacity\"] = pd.to_numeric(df[\"Capacity\"], errors = \"coerce\")"
      ],
      "execution_count": null,
      "outputs": []
    },
    {
      "cell_type": "code",
      "metadata": {
        "colab": {
          "base_uri": "https://localhost:8080/"
        },
        "id": "xbFbyRTIRoHV",
        "outputId": "d72b72cd-264e-43d3-e2bf-9771d8951216"
      },
      "source": [
        "def q4():\n",
        "  # Type your code here\n",
        "\n",
        "  Q1 = df.quantile(0.25)\n",
        "  Q3 = df.quantile(0.75)\n",
        "  IQR = Q3 - Q1\n",
        "  return IQR # Type your code here\n",
        "\n",
        "q4()"
      ],
      "execution_count": null,
      "outputs": [
        {
          "output_type": "execute_result",
          "data": {
            "text/plain": [
              "Capacity    118710.0\n",
              "dtype: float64"
            ]
          },
          "metadata": {},
          "execution_count": 38
        }
      ]
    },
    {
      "cell_type": "markdown",
      "metadata": {
        "id": "f7rUcJ7XP3Yt"
      },
      "source": [
        "Q5. Compute the skewness and kurtosis of the 'Capacity' attribute, rounded off two two decimal places."
      ]
    },
    {
      "cell_type": "code",
      "metadata": {
        "colab": {
          "base_uri": "https://localhost:8080/"
        },
        "id": "aEwGSmk9S6Qk",
        "outputId": "405733f9-5841-40f1-8d72-c3e5156d985d"
      },
      "source": [
        "def q5():\n",
        "  # Type your code here\n",
        "  skewness_value = round(df['Capacity'].skew(), 2)\n",
        "  kurtosis_value = round(df['Capacity'].kurt(), 2)\n",
        "  return (skewness_value, kurtosis_value)\n",
        "\n",
        "q5()"
      ],
      "execution_count": null,
      "outputs": [
        {
          "output_type": "execute_result",
          "data": {
            "text/plain": [
              "(0.78, -0.48)"
            ]
          },
          "metadata": {},
          "execution_count": 39
        }
      ]
    },
    {
      "cell_type": "markdown",
      "metadata": {
        "id": "fvwz6PrNTDB_"
      },
      "source": [
        "\n",
        "\n",
        "---\n",
        "\n"
      ]
    },
    {
      "cell_type": "markdown",
      "metadata": {
        "id": "BZab4Pv7TFUp"
      },
      "source": [
        "Import necessary libraries for Regression questions 6-8. Dataset can be loaded form [here](https://raw.githubusercontent.com/dayanandv/Data-Science/main/dataset/dataset1.csv)."
      ]
    },
    {
      "cell_type": "code",
      "metadata": {
        "id": "C41Eu_wETEIQ"
      },
      "source": [
        "from sklearn.linear_model import LinearRegression\n",
        "from sklearn.metrics import mean_squared_error\n",
        "from sklearn.model_selection import train_test_split\n",
        "from math import sqrt"
      ],
      "execution_count": null,
      "outputs": []
    },
    {
      "cell_type": "code",
      "metadata": {
        "id": "8EKvJEmFUJ_u"
      },
      "source": [
        "df1 = pd.read_csv(\"https://raw.githubusercontent.com/dayanandv/Data-Science/main/dataset/dataset1.csv\", encoding = \"utf16\")"
      ],
      "execution_count": null,
      "outputs": []
    },
    {
      "cell_type": "markdown",
      "metadata": {
        "id": "TCDz6OVsjnrt"
      },
      "source": [
        "Load data into DataFrame, split into X and Y, split DataFrame further into train (2/3rd) and test (1/3rd)."
      ]
    },
    {
      "cell_type": "code",
      "metadata": {
        "id": "WiBW3ohqjsWM"
      },
      "source": [
        "X = df1[\"X\"].values.reshape(-1, 1)\n",
        "Y = df1[\"Y\"].values.reshape(-1, 1)\n",
        "X_train, X_test, Y_train, Y_test = train_test_split(X, Y, test_size = 0.33, random_state = 42)"
      ],
      "execution_count": null,
      "outputs": []
    },
    {
      "cell_type": "code",
      "metadata": {
        "id": "XIMJfD5Ec0rA"
      },
      "source": [
        ""
      ],
      "execution_count": null,
      "outputs": []
    },
    {
      "cell_type": "markdown",
      "metadata": {
        "id": "vWFfeSQ-g7HD"
      },
      "source": [
        "Q6. Build a Linear Regression model by hand and calculate the coeffcients b1 and b0 for the model."
      ]
    },
    {
      "cell_type": "code",
      "metadata": {
        "id": "hfMnXLo1gtWo",
        "colab": {
          "base_uri": "https://localhost:8080/"
        },
        "outputId": "972d3a41-ce0c-4138-e62a-cb9c7fd9601c"
      },
      "source": [
        "def q6(): \n",
        "  # Mean X and Y\n",
        "  mean_x = np.mean(X)\n",
        "  mean_y = np.mean(Y)\n",
        "\n",
        "  # Total number of values\n",
        "  n = len(X)\n",
        "\n",
        "  # Using the formula to calculate b1 and b2\n",
        "  numer = 0\n",
        "  denom = 0\n",
        "  for i in range(n):\n",
        "      numer += (X[i]-mean_x) * (Y[i]-mean_y)\n",
        "      denom += (X[i]-mean_x) ** 2\n",
        "  b1 = numer / denom\n",
        "  b0 = mean_y - (b1*mean_x)\n",
        "  y_pred = b0 + b1 * X[i]\n",
        "  rmse_s = (Y[i]-y_pred) ** 2\n",
        "  for i in range(n):\n",
        "      y_pred = b0 + b1 * X[i]\n",
        "      rmse_s += (Y[i]-y_pred) ** 2\n",
        "  rmse_s = np.sqrt(rmse_s/n)\n",
        "  print(rmse_s)\n",
        "  \n",
        "  # Return coefficients\n",
        "  return b1[0], b0[0]\n",
        "\n",
        "q6()"
      ],
      "execution_count": null,
      "outputs": [
        {
          "output_type": "stream",
          "name": "stdout",
          "text": [
            "[36.60557085]\n"
          ]
        },
        {
          "output_type": "execute_result",
          "data": {
            "text/plain": [
              "(1.8194996275037996, 12.508563136839996)"
            ]
          },
          "metadata": {},
          "execution_count": 71
        }
      ]
    },
    {
      "cell_type": "markdown",
      "metadata": {
        "id": "CZd0J5Siijon"
      },
      "source": [
        "Q7. Build a Linear Regression model using sklearn and compute the absolute difference in RMSE of the predictions on the X_test data when you compare it to the model built in Q6."
      ]
    },
    {
      "cell_type": "code",
      "source": [
        "def q7():\n",
        "\n",
        "  # Type your code here \n",
        "  LR = LinearRegression()\n",
        "  # fitting the training data\n",
        "  LR.fit(X_train,Y_train)\n",
        "  Y_prediction =  LR.predict(X_test)\n",
        "\n",
        "  # Calculating RMSE and R2 Score\n",
        "  mse = mean_squared_error(Y_test, Y_prediction)\n",
        "  rmse = np.sqrt(mse)\n",
        "  rmse = abs(rmse)\n",
        "  difference_in_rmse = rmse_s - rmse\n",
        "  print(rmse)\n",
        "\n",
        "  return difference_in_rmse[0]\n",
        "\n",
        "q7()"
      ],
      "metadata": {
        "id": "-bPrxoq3RYQR"
      },
      "execution_count": null,
      "outputs": []
    }
  ]
}