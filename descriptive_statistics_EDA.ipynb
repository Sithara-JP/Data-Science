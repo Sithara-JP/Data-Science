{
  "nbformat": 4,
  "nbformat_minor": 0,
  "metadata": {
    "colab": {
      "name": "descriptive_statistics EDA.ipynb",
      "provenance": [],
      "collapsed_sections": []
    },
    "kernelspec": {
      "name": "python3",
      "display_name": "Python 3"
    },
    "language_info": {
      "name": "python"
    }
  },
  "cells": [
    {
      "cell_type": "markdown",
      "metadata": {
        "id": "JvWmEYvLe672"
      },
      "source": [
        "# Read and Preprocess"
      ]
    },
    {
      "cell_type": "markdown",
      "metadata": {
        "id": "sbVizKzNcO35"
      },
      "source": [
        "#Instruction: Import required libraries here"
      ]
    },
    {
      "cell_type": "code",
      "metadata": {
        "id": "bva5jvJ9ITlZ"
      },
      "source": [
        "# Import\n",
        "import matplotlib.pyplot as plt\n",
        "import seaborn as sns\n",
        "import random"
      ],
      "execution_count": null,
      "outputs": []
    },
    {
      "cell_type": "code",
      "metadata": {
        "id": "CtxISvR7fqsR"
      },
      "source": [
        "import pandas as pd\n",
        "import numpy as np"
      ],
      "execution_count": null,
      "outputs": []
    },
    {
      "cell_type": "markdown",
      "metadata": {
        "id": "wE6h5_Yfcbb5"
      },
      "source": [
        "#Instruction: From this [link](https://github.com/dayanandv/Data-Science/tree/main/Evaluation%201_Preprocessing), read the following files into dataframes:\n",
        "\n",
        "    \n",
        "\n",
        "1.   LokSabhaMPs.xls to the dataframe `mps`\n",
        "2.   Each sheet (there are six in total) of the file Seventeenth Lok Sabha_Attendance.xlsx to a list of DataFrames named `attendance`; i.e. each element of the list will be a DataFrame corresponding to a sheet in the file which represents one session.\n",
        "\n",
        "Preprocess, so that:\n",
        "\n",
        "1. The dataframe header map to the row number where column names are listed.\n",
        "2. Extra space at the end of Member Name are handled.\n",
        "\n",
        "Description of the attendance dataset from http://loksabhaph.nic.in\n",
        "\n",
        "S= The Member Signed the Register\n",
        "\n",
        "S*= The Member signed through Mobile Attendance Application\n",
        "\n",
        "S#= The Member signed through both the Register & Mobile Attendance Application\n",
        "\n",
        "NS= The Member did not sign the register. (A Member might have attended the sitting of the House on a particular day but did not sign or forgot to sign the Register for that day )\n",
        "\n",
        "NS@= Member was present but forgot to sign the Attendance Register\n",
        "\n",
        "NR= Not Required. (Hon'ble Speaker, Deputy Speaker, Prime Minister and Minister usually do not sign the Members' Attendance Register)\n"
      ]
    },
    {
      "cell_type": "code",
      "metadata": {
        "id": "57ANXZqhcXSb"
      },
      "source": [
        "mps = pd.read_excel('https://github.com/dayanandv/Data-Science/blob/main/Evaluation%201_Preprocessing/LokSabha_MPs.xls?raw=2')\n",
        "# Write your code here"
      ],
      "execution_count": null,
      "outputs": []
    },
    {
      "cell_type": "code",
      "metadata": {
        "id": "yWXkPFe86Ecs"
      },
      "source": [
        "attendance = []\n",
        "for i in range(6):\n",
        "  data = pd.read_excel('https://github.com/dayanandv/Data-Science/blob/main/Evaluation%201_Preprocessing/Seventeenth%20Lok%20Sabha_Attendance.xlsx?raw==true', sheet_name = i)\n",
        "  attendance.append(data)"
      ],
      "execution_count": null,
      "outputs": []
    },
    {
      "cell_type": "markdown",
      "metadata": {
        "id": "7OhvfFldcIKg"
      },
      "source": [
        "# Q1. Edit the function q1 such that it returns a tuple containing the the number of rows of `mps` and number of elements in `attendance` respectively."
      ]
    },
    {
      "cell_type": "code",
      "metadata": {
        "colab": {
          "base_uri": "https://localhost:8080/"
        },
        "id": "lOc4aVAjDCf1",
        "outputId": "8ba2e73c-767c-4a02-b8e4-84be5e9f27ae"
      },
      "source": [
        "def q1():\n",
        "  # Write your code here\n",
        "  nor_mps = mps.shape[0]\n",
        "  nor_attendance = 0\n",
        "  for i in range(6):\n",
        "    nor_attendance = nor_attendance + attendance[i].shape[0]  \n",
        "  return (nor_mps, nor_attendance)\n",
        "q1()"
      ],
      "execution_count": null,
      "outputs": [
        {
          "output_type": "execute_result",
          "data": {
            "text/plain": [
              "(542, 2909)"
            ]
          },
          "metadata": {},
          "execution_count": 42
        }
      ]
    },
    {
      "cell_type": "markdown",
      "metadata": {
        "id": "Ftnn61kJ0rKV"
      },
      "source": [
        "#Instruction: Have the attendance percentages of each session (sheet) calculated and added to its respective dataframe as a column named `Attendance Percentage`."
      ]
    },
    {
      "cell_type": "code",
      "metadata": {
        "id": "N1RK_enL1NMZ",
        "colab": {
          "base_uri": "https://localhost:8080/",
          "height": 203
        },
        "outputId": "b1801053-15b1-4270-bb7b-3537c2a34ae0"
      },
      "source": [
        "# Write your code here\n",
        "for i in attendance:\n",
        "  i['Attendance Percentage'] = i['No. of days Members signed the Register']/(i['No. of days Members signed the Register'] + i['No. of days Members not signed the Register'])*100\n",
        "attendance[1].head(5)"
      ],
      "execution_count": null,
      "outputs": [
        {
          "output_type": "execute_result",
          "data": {
            "text/html": [
              "<div>\n",
              "<style scoped>\n",
              "    .dataframe tbody tr th:only-of-type {\n",
              "        vertical-align: middle;\n",
              "    }\n",
              "\n",
              "    .dataframe tbody tr th {\n",
              "        vertical-align: top;\n",
              "    }\n",
              "\n",
              "    .dataframe thead th {\n",
              "        text-align: right;\n",
              "    }\n",
              "</style>\n",
              "<table border=\"1\" class=\"dataframe\">\n",
              "  <thead>\n",
              "    <tr style=\"text-align: right;\">\n",
              "      <th></th>\n",
              "      <th>Division NO</th>\n",
              "      <th>Member Name</th>\n",
              "      <th>No. of days Members signed the Register</th>\n",
              "      <th>No. of days Members not signed the Register</th>\n",
              "      <th>Attendance Percentage</th>\n",
              "    </tr>\n",
              "  </thead>\n",
              "  <tbody>\n",
              "    <tr>\n",
              "      <th>0</th>\n",
              "      <td>15</td>\n",
              "      <td>Dr. Jitendra Singh</td>\n",
              "      <td>19</td>\n",
              "      <td>1</td>\n",
              "      <td>95.0</td>\n",
              "    </tr>\n",
              "    <tr>\n",
              "      <th>1</th>\n",
              "      <td>20</td>\n",
              "      <td>Shri Faggan Singh Kulaste</td>\n",
              "      <td>1</td>\n",
              "      <td>19</td>\n",
              "      <td>5.0</td>\n",
              "    </tr>\n",
              "    <tr>\n",
              "      <th>2</th>\n",
              "      <td>22</td>\n",
              "      <td>Dr. Sanjay Jaiswal</td>\n",
              "      <td>15</td>\n",
              "      <td>5</td>\n",
              "      <td>75.0</td>\n",
              "    </tr>\n",
              "    <tr>\n",
              "      <th>3</th>\n",
              "      <td>31</td>\n",
              "      <td>Shri Rakesh Singh</td>\n",
              "      <td>16</td>\n",
              "      <td>4</td>\n",
              "      <td>80.0</td>\n",
              "    </tr>\n",
              "    <tr>\n",
              "      <th>4</th>\n",
              "      <td>32</td>\n",
              "      <td>Shri Nishikant Dubey</td>\n",
              "      <td>20</td>\n",
              "      <td>0</td>\n",
              "      <td>100.0</td>\n",
              "    </tr>\n",
              "  </tbody>\n",
              "</table>\n",
              "</div>"
            ],
            "text/plain": [
              "   Division NO  ... Attendance Percentage\n",
              "0           15  ...                  95.0\n",
              "1           20  ...                   5.0\n",
              "2           22  ...                  75.0\n",
              "3           31  ...                  80.0\n",
              "4           32  ...                 100.0\n",
              "\n",
              "[5 rows x 5 columns]"
            ]
          },
          "metadata": {},
          "execution_count": 43
        }
      ]
    },
    {
      "cell_type": "markdown",
      "metadata": {
        "id": "pGYny8A-iOVQ"
      },
      "source": [
        "#Q2. Edit the function q2 such that it returns the percentage of MPs among those who attended session 1 (round to two decimal places) who had 100% attendance."
      ]
    },
    {
      "cell_type": "code",
      "metadata": {
        "id": "p9d5M642hUiY",
        "colab": {
          "base_uri": "https://localhost:8080/"
        },
        "outputId": "6684badb-364e-45ed-e327-12b543e93aa5"
      },
      "source": [
        "def q2():\n",
        "  # Write your code here\n",
        "  percentage = len(attendance[0][attendance[0]['Attendance Percentage'] == 100])/len(attendance[0])*100\n",
        "  return round(percentage, 2)\n",
        "q2()"
      ],
      "execution_count": null,
      "outputs": [
        {
          "output_type": "execute_result",
          "data": {
            "text/plain": [
              "20.23"
            ]
          },
          "metadata": {},
          "execution_count": 45
        }
      ]
    },
    {
      "cell_type": "markdown",
      "metadata": {
        "id": "d3tDqa1iwMKz"
      },
      "source": [
        "#Q3. Edit the function q3 such that it returns the skew value (round to two decimal places) of the Attendance Percentages of MPs in session 2 (sheet 2).  "
      ]
    },
    {
      "cell_type": "code",
      "metadata": {
        "id": "UoNrGeJswz1W",
        "colab": {
          "base_uri": "https://localhost:8080/"
        },
        "outputId": "0d4572f1-1b76-4901-d4fc-8fca7f7265fa"
      },
      "source": [
        "def q3():\n",
        "  # Write your code here\n",
        "  skew = attendance[1]['Attendance Percentage'].skew()\n",
        "  return round(skew, 2)\n",
        "q3()"
      ],
      "execution_count": null,
      "outputs": [
        {
          "output_type": "execute_result",
          "data": {
            "text/plain": [
              "-1.64"
            ]
          },
          "metadata": {},
          "execution_count": 46
        }
      ]
    },
    {
      "cell_type": "markdown",
      "metadata": {
        "id": "1TBy6RJ6yKQx"
      },
      "source": [
        "#Q4. Edit the function q4 such that it returns the kurtosis value of the number of days that the MPs have not signed in the register during session 3 (sheet 3).  "
      ]
    },
    {
      "cell_type": "code",
      "metadata": {
        "id": "Y-jVeoh1ySBg",
        "colab": {
          "base_uri": "https://localhost:8080/"
        },
        "outputId": "d7f50dee-f7e7-4f9c-9f1e-4fee3df547e3"
      },
      "source": [
        "def q4():\n",
        "  # Write your code here\n",
        "  kurt = attendance[2][\"No. of days Members not signed the Register\"].kurt()\n",
        "  return round(kurt, 2)\n",
        "q4()"
      ],
      "execution_count": null,
      "outputs": [
        {
          "output_type": "execute_result",
          "data": {
            "text/plain": [
              "1.56"
            ]
          },
          "metadata": {},
          "execution_count": 47
        }
      ]
    },
    {
      "cell_type": "markdown",
      "metadata": {
        "id": "eLeL-slM0Zsx"
      },
      "source": [
        "#Instruction: Plot a histogram of the Attendance Percentage' column of session 4 (sheet 4) and use it to answer the following question."
      ]
    },
    {
      "cell_type": "code",
      "metadata": {
        "id": "7t6qE3AY4U8L",
        "colab": {
          "base_uri": "https://localhost:8080/",
          "height": 265
        },
        "outputId": "6c4d5cd8-506f-4f6d-daab-0a4100b6fe19"
      },
      "source": [
        "# Write your code here\n",
        "plt.hist(attendance[3]['Attendance Percentage'])\n",
        "plt.show()"
      ],
      "execution_count": null,
      "outputs": [
        {
          "output_type": "display_data",
          "data": {
            "image/png": "[encoded data removed]",
            "text/plain": [
              "<Figure size 432x288 with 1 Axes>"
            ]
          },
          "metadata": {
            "needs_background": "light"
          }
        }
      ]
    },
    {
      "cell_type": "markdown",
      "metadata": {
        "id": "QoFIx4Al2Fgr"
      },
      "source": [
        "#Q5. Edit the function q5 such that it returns the boolean value corresponding to whether the histogram of the `Attendance Percentage` column of any arbitrary session shows a heavily skewed distribution (True/False). The session number is  to be passed onto the function as an integer argument.\n",
        "\n",
        "For this example, assume that we call a distribution as heavily skewed if it's absolute skew value is **more than 1.7**."
      ]
    },
    {
      "cell_type": "code",
      "metadata": {
        "colab": {
          "base_uri": "https://localhost:8080/"
        },
        "id": "UBrdNnzeGob2",
        "outputId": "0f5d7155-151a-465d-bb4a-7dc87691529d"
      },
      "source": [
        "def q5(session_number):\n",
        "    # Write your code here\n",
        "    skew = attendance[session_number-1]['Attendance Percentage'].skew()\n",
        "    if(abs(round(skew,2))>1.7):\n",
        "        answer = True\n",
        "    else:\n",
        "        answer = False\n",
        "    return answer\n",
        "    \n",
        "q5(5)"
      ],
      "execution_count": null,
      "outputs": [
        {
          "output_type": "execute_result",
          "data": {
            "text/plain": [
              "False"
            ]
          },
          "metadata": {},
          "execution_count": 49
        }
      ]
    },
    {
      "cell_type": "markdown",
      "metadata": {
        "id": "VnMSEtYW60dC"
      },
      "source": [
        "#Q6. Edit the function q6 such that it goes through the mean values of the attendance percentages of each session and returns a list named `outliers` with the number(s) of the session(s) which is/are outlier(s). If there are no outliers return an empty list."
      ]
    },
    {
      "cell_type": "code",
      "metadata": {
        "colab": {
          "base_uri": "https://localhost:8080/"
        },
        "id": "HJNQNf78OiBg",
        "outputId": "c7e63947-c8c8-418a-e186-464526a87bde"
      },
      "source": [
        "def q6():\n",
        "  #Write your code here\n",
        "  outliers = []\n",
        "  for i in range (0, len(attendance)):\n",
        "    q1 = attendance[i]['Attendance Percentage'].quantile(0.25)\n",
        "    q3 = attendance[i]['Attendance Percentage'].quantile(0.75)\n",
        "    iqr = q3 - q1\n",
        "    data = ((attendance[i]['Attendance Percentage'] < (q1 - 1.5 * iqr)) | (attendance[i]['Attendance Percentage'] > (q3 + 1.5 * iqr))).sum()\n",
        "    outliers.append(data)\n",
        "  return outliers\n",
        "\n",
        "q6()"
      ],
      "execution_count": null,
      "outputs": [
        {
          "output_type": "execute_result",
          "data": {
            "text/plain": [
              "[48, 34, 17, 34, 0, 26]"
            ]
          },
          "metadata": {},
          "execution_count": 52
        }
      ]
    }
  ]
}