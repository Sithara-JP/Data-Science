{
  "nbformat": 4,
  "nbformat_minor": 0,
  "metadata": {
    "kernelspec": {
      "display_name": "Python 3",
      "language": "python",
      "name": "python3"
    },
    "language_info": {
      "codemirror_mode": {
        "name": "ipython",
        "version": 3
      },
      "file_extension": ".py",
      "mimetype": "text/x-python",
      "name": "python",
      "nbconvert_exporter": "python",
      "pygments_lexer": "ipython3",
      "version": "3.6.9"
    },
    "colab": {
      "name": "Hypothesis testing.ipynb",
      "provenance": [],
      "collapsed_sections": []
    }
  },
  "cells": [
    {
      "cell_type": "markdown",
      "metadata": {
        "id": "K5g-zc_j_CmG"
      },
      "source": [
        "## Import *all* necessary libraries here"
      ]
    },
    {
      "cell_type": "code",
      "metadata": {
        "id": "NKFoZZPM_CmM"
      },
      "source": [
        "import numpy as np\n",
        "import pandas as pd\n",
        "import math\n",
        "from statistics import mean\n",
        "import scipy.stats as st"
      ],
      "execution_count": null,
      "outputs": []
    },
    {
      "cell_type": "markdown",
      "metadata": {
        "id": "iyy-DZ4P_CmO"
      },
      "source": [
        "## Question 1 : Warming and Ice Melt \n",
        "The average depth of the Hudson Bay is 305 feet. Climatologists were interested in seeing if warming and ice melt were affecting the water level. Fifty-five measurements over a period of randomly selected weeks yielded a\n",
        "sample mean of 306.2 feet. The population variance is known to be 3.6. Can it be concluded at the 0.05 level of significance that the average depth has increased? Is there evidence of what caused this to happen?\n"
      ]
    },
    {
      "cell_type": "code",
      "metadata": {
        "id": "KVJpoo_s_CmP"
      },
      "source": [
        "def q1():\n",
        "    #List your hypothesis in the comment below\n",
        "    #Initial variable here\n",
        "    n = 55\n",
        "    xbar = 305 \n",
        "    mu = 306.2\n",
        "    sigma = math.sqrt(3.6)\n",
        "    alpha = 0.05\n",
        "    \n",
        "    #Fill in your code here\n",
        "    z= 1.65\n",
        "    z_critical=(mu-xbar)/(sigma/math.sqrt(n))\n",
        "    #Add your condition check\n",
        "    if z_critical>z:\n",
        "      rejection=True\n",
        "    else:\n",
        "      rejection=False\n",
        "        \n",
        "    return rejection, round(z, 2), round(z_critical, 2)"
      ],
      "execution_count": null,
      "outputs": []
    },
    {
      "cell_type": "code",
      "metadata": {
        "colab": {
          "base_uri": "https://localhost:8080/"
        },
        "id": "bV3M568r_RdZ",
        "outputId": "00ee6c51-1631-4f9b-f865-e220d94ad4be"
      },
      "source": [
        "q1()"
      ],
      "execution_count": null,
      "outputs": [
        {
          "output_type": "execute_result",
          "data": {
            "text/plain": [
              "(True, 1.65, 4.69)"
            ]
          },
          "metadata": {},
          "execution_count": 3
        }
      ]
    },
    {
      "cell_type": "markdown",
      "metadata": {
        "id": "HVEeY930_CmQ"
      },
      "source": [
        "## Question 2 : Stopping Distances \n",
        "A study found that the average stopping distance of a school bus traveling 50 miles per hour was 264 feet. A group of automotive engineers decided to conduct a study of its school buses and found that for 20 randomly selected buses, the average stopping distance of buses traveling 50 miles per hour was 262.3 feet. The standard deviation of the population was 3 feet. Test the claim that the average stopping distance of the company’s buses is actually\n",
        "less than 264 feet. Find the P-value. On the basis of the P-value, should the null hypothesis be rejected\n",
        "at α = 0.01? Assume that the variable is normally distributed.\n"
      ]
    },
    {
      "cell_type": "code",
      "metadata": {
        "id": "zv_MXT66_YIa"
      },
      "source": [
        "def q2():\n",
        "    #List your hypothesis in the comment below\n",
        "    #Initial variable here\n",
        "    n = 20\n",
        "    xbar = 262.3\n",
        "    mu = 264\n",
        "    sigma = 3\n",
        "    alpha = 0.01\n",
        "    \n",
        "    #Fill in your code here\n",
        "    z = (xbar-mu)/(sigma/math.sqrt(n))\n",
        "    p = 0.0057\n",
        "     #Add your condition check\n",
        "    if p < alpha:\n",
        "      rejection = True\n",
        "    else:\n",
        "      rejection = False\n",
        "    return rejection, round(z, 2), round(p, 2)"
      ],
      "execution_count": null,
      "outputs": []
    },
    {
      "cell_type": "code",
      "metadata": {
        "colab": {
          "base_uri": "https://localhost:8080/"
        },
        "id": "DZ1gonLh_Zjf",
        "outputId": "7c806a3a-b337-4db5-a128-0f62a973c780"
      },
      "source": [
        "q2()"
      ],
      "execution_count": null,
      "outputs": [
        {
          "output_type": "execute_result",
          "data": {
            "text/plain": [
              "(True, -2.53, 0.01)"
            ]
          },
          "metadata": {},
          "execution_count": 5
        }
      ]
    },
    {
      "cell_type": "markdown",
      "metadata": {
        "id": "nDYS7_-C_CmS"
      },
      "source": [
        "## Question 3 : Television Viewing by Teens\n",
        "Teens are reported to watch the fewest total hours of television per week of all the demographic groups. The average television viewing for teens on Sunday from 1:00 to 7:00 p.m. is 58 minutes. A random sample of local teens disclosed the following times (given as the list viz 'data') for Sunday afternoon television viewing. At α = 0.01, can it be concluded that the average is greater than the national viewing time? (Note: Change all times to minutes.)"
      ]
    },
    {
      "cell_type": "code",
      "metadata": {
        "id": "Way82cVQ_CmU"
      },
      "source": [
        "data = [\"2:30\", \"1:00\", \"1:30\", \"2:00\", \"2:15\", \"2:30\", \"1:30\", \"1:50\", \"3:20\", \"2:10\"]"
      ],
      "execution_count": null,
      "outputs": []
    },
    {
      "cell_type": "code",
      "metadata": {
        "id": "SVuxw-aL_fJe"
      },
      "source": [
        "def q3():\n",
        "    #List your hypothesis in the comment below\n",
        "    d = [150,60,90,120,135,150,90,110,200,130]\n",
        "    d = np.array(d)\n",
        "    #Initial variables here\n",
        "    n = 10\n",
        "    xbar = d.mean()\n",
        "    mu = 58\n",
        "    sigma = round(d.std(),2)\n",
        "    alpha = 0.01\n",
        "    \n",
        "    #Fill in your code here\n",
        "    t = (xbar-mu)/(sigma/np.sqrt(n))\n",
        "    t_critical = 2.821\n",
        "    \n",
        "    if t>=t_critical:\n",
        "      rejection=True\n",
        "    else:\n",
        "      rejection=False\n",
        "    \n",
        "    #Add your condition check\n",
        "   \n",
        "    return rejection, round(t, 2), round(t_critical, 2)"
      ],
      "execution_count": null,
      "outputs": []
    },
    {
      "cell_type": "code",
      "metadata": {
        "colab": {
          "base_uri": "https://localhost:8080/"
        },
        "id": "F4ppDZpG_n-v",
        "outputId": "7a9bd6d4-adef-4756-a45f-1bed74ef4d74"
      },
      "source": [
        "q3()"
      ],
      "execution_count": null,
      "outputs": [
        {
          "output_type": "execute_result",
          "data": {
            "text/plain": [
              "(True, 5.55, 2.82)"
            ]
          },
          "metadata": {},
          "execution_count": 10
        }
      ]
    },
    {
      "cell_type": "markdown",
      "metadata": {
        "id": "koPAW8ml_CmW"
      },
      "source": [
        "## Question 4 : Doctor Visits \n",
        "A report by the Gallup Poll stated that on average a woman visits her physician 5.8 times a year. A researcher randomly selects 20 women and obtained these data (list viz 'data' given below). At α = 0.05, can it be concluded that the average is still 5.8 visits per year? Use the P-value method."
      ]
    },
    {
      "cell_type": "code",
      "metadata": {
        "id": "LQgIVYh5_CmW"
      },
      "source": [
        "data = [3, 8, 2, 0, 1, 5, 3, 6, 7, 4, 2, 2, 4, 3, 6, 4, 6, 1]"
      ],
      "execution_count": null,
      "outputs": []
    },
    {
      "cell_type": "code",
      "metadata": {
        "id": "39yvHlmo_i75"
      },
      "source": [
        "def q4():\n",
        "    #List your hypothesis in the comment below\n",
        "\n",
        "#Initial variables here\n",
        "    data = pd.Series([3, 8, 2, 0, 1, 5, 3, 6, 7, 4, 2, 2, 4, 3, 6, 4, 6, 1, 9, 1])\n",
        "    sums=0\n",
        "    for i in data:\n",
        "      sums=sums+i\n",
        "    n = 20\n",
        "    #deg = \n",
        "    xbar = sums/n\n",
        "    mu = 5.8\n",
        "    sigma = data.std()\n",
        "    alpha = 0.05\n",
        "\n",
        "    #Fill in your code here\n",
        "    denom=sigma/math.sqrt(n)\n",
        "    t=(xbar-mu)/denom\n",
        "    p=0.00054\n",
        "    #Add your condition check\n",
        "    if p<alpha:\n",
        "      rejection=True\n",
        "    else:\n",
        "      rejection=False\n",
        "    return rejection, round(t, 2), round(p, 2)"
      ],
      "execution_count": null,
      "outputs": []
    },
    {
      "cell_type": "code",
      "metadata": {
        "colab": {
          "base_uri": "https://localhost:8080/"
        },
        "id": "fH2wTsKH_rEX",
        "outputId": "b59e6559-2cc2-404e-9495-f8adb003175b"
      },
      "source": [
        "q4()"
      ],
      "execution_count": null,
      "outputs": [
        {
          "output_type": "execute_result",
          "data": {
            "text/plain": [
              "(True, -3.46, 0.0)"
            ]
          },
          "metadata": {},
          "execution_count": 12
        }
      ]
    },
    {
      "cell_type": "markdown",
      "metadata": {
        "id": "ZvgUq2ye_CmX"
      },
      "source": [
        "## Question 5 : Age of Psychologists \n",
        "Test the claim that the standard deviation of the ages of psychologists in Pennsylvania is 8.6 at α = 0.05. A random sample of 12 psychologists had a standard deviation of 9.3."
      ]
    },
    {
      "cell_type": "code",
      "metadata": {
        "id": "BjzNYGWRAPea"
      },
      "source": [
        "def q5():\n",
        "    #List your hypothesis in the comment below\n",
        "    # H0: sigma=8.6 ; Ha: sigma!=8.6\n",
        "\n",
        "    #Initial variables here\n",
        "    n = 12\n",
        "    degrees_of_freedom = 11\n",
        "    s = 9.3\n",
        "    sigma = 8.6\n",
        "    alpha = .05\n",
        "\n",
        "    #Fill in your code here\n",
        "    chi_square = round((n-1)*(s*s)/(sigma*sigma),2)\n",
        "    chi_square_critical_right = round(st.chi2.ppf(alpha/2,degrees_of_freedom),2)\n",
        "    chi_square_critical_left = round(st.chi2.ppf(1-(alpha/2),degrees_of_freedom),2)\n",
        "\n",
        "    if(chi_square<chi_square_critical_left or chi_square>chi_square_critical_right): #Add your condition check\n",
        "        rejection = False \n",
        "    else:\n",
        "        rejection = True\n",
        "\n",
        "    return rejection, chi_square, chi_square_critical_right,chi_square_critical_left"
      ],
      "execution_count": null,
      "outputs": []
    },
    {
      "cell_type": "code",
      "metadata": {
        "id": "gHObndI0_yEe",
        "colab": {
          "base_uri": "https://localhost:8080/"
        },
        "outputId": "c4d228e9-3267-4d91-e15f-7c669b634db5"
      },
      "source": [
        "q5()"
      ],
      "execution_count": null,
      "outputs": [
        {
          "output_type": "execute_result",
          "data": {
            "text/plain": [
              "(False, 12.86, 3.82, 21.92)"
            ]
          },
          "metadata": {},
          "execution_count": 17
        }
      ]
    },
    {
      "cell_type": "markdown",
      "metadata": {
        "id": "zeoXfgvL_CmY"
      },
      "source": [
        "## Question 6 : Transferring Phone Calls\n",
        "The manager of a large company claims that the standard deviation of the time (in minutes) that it takes a telephone call to be transferred to the correct office in her company is 1.2 minutes or less. A random sample of 15 calls is selected, and the calls are timed. The standard deviation of the sample is 1.8 minutes. At α = 0.01, test the claim that the standard deviation is less than or equal to 1.2 minutes. Use the P-value method.\n"
      ]
    },
    {
      "cell_type": "code",
      "metadata": {
        "id": "ex3k1Ve3_CmZ"
      },
      "source": [
        "def q6():\n",
        "    #List your hypothesis in the comment below\n",
        "    #H0: sigma <= 1.2\n",
        "    #H1: sigma > 1.2\n",
        "    #Initial variables here\n",
        "    n = 15\n",
        "    degrees_of_freedom = 14\n",
        "    s = 1.8\n",
        "    sigma = 1.2\n",
        "    alpha = 0.01\n",
        "\n",
        "    #Fill in your code here\n",
        "    chi_square= (degrees_of_freedom*s*s)/(sigma*sigma)\n",
        "    p=0.004715\n",
        "\n",
        "    #Add your condition check\n",
        "    if p<alpha:\n",
        "      rejection=True\n",
        "    else:\n",
        "      rejection=False\n",
        "\n",
        "    return rejection, round(chi_square, 2), round(p, 2)"
      ],
      "execution_count": null,
      "outputs": []
    },
    {
      "cell_type": "code",
      "metadata": {
        "colab": {
          "base_uri": "https://localhost:8080/"
        },
        "id": "CPpBCVE1Awap",
        "outputId": "307520b8-679a-43bc-fa7c-7cd2f9fc6bc1"
      },
      "source": [
        "q6()"
      ],
      "execution_count": null,
      "outputs": [
        {
          "output_type": "execute_result",
          "data": {
            "text/plain": [
              "(True, 31.5, 0.0)"
            ]
          },
          "metadata": {},
          "execution_count": 19
        }
      ]
    }
  ]
}