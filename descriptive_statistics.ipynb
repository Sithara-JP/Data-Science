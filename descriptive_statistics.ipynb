{
  "nbformat": 4,
  "nbformat_minor": 0,
  "metadata": {
    "colab": {
      "name": "descriptive_statistics.ipynb",
      "provenance": [],
      "collapsed_sections": []
    },
    "kernelspec": {
      "name": "python3",
      "display_name": "Python 3"
    },
    "language_info": {
      "name": "python"
    }
  },
  "cells": [
    {
      "cell_type": "code",
      "metadata": {
        "id": "IiupO7g6rPWt"
      },
      "source": [
        "import pandas as pd\n",
        "import numpy as np\n",
        "import matplotlib as mp\n",
        "import matplotlib.pyplot as plt\n",
        "import seaborn as sns\n",
        "import random"
      ],
      "execution_count": null,
      "outputs": []
    },
    {
      "cell_type": "code",
      "metadata": {
        "id": "yDJTlAaO7N3w",
        "colab": {
          "base_uri": "https://localhost:8080/",
          "height": 287
        },
        "outputId": "35a1b898-6599-4a41-9911-e7931f91a0e6"
      },
      "source": [
        "d1 = pd.read_csv('https://raw.githubusercontent.com/dayanandv/Data-Science/main/dataset/uk-500.csv')\n",
        "d1.head()"
      ],
      "execution_count": null,
      "outputs": [
        {
          "output_type": "execute_result",
          "data": {
            "text/html": [
              "<div>\n",
              "<style scoped>\n",
              "    .dataframe tbody tr th:only-of-type {\n",
              "        vertical-align: middle;\n",
              "    }\n",
              "\n",
              "    .dataframe tbody tr th {\n",
              "        vertical-align: top;\n",
              "    }\n",
              "\n",
              "    .dataframe thead th {\n",
              "        text-align: right;\n",
              "    }\n",
              "</style>\n",
              "<table border=\"1\" class=\"dataframe\">\n",
              "  <thead>\n",
              "    <tr style=\"text-align: right;\">\n",
              "      <th></th>\n",
              "      <th>first_name</th>\n",
              "      <th>last_name</th>\n",
              "      <th>company_name</th>\n",
              "      <th>address</th>\n",
              "      <th>city</th>\n",
              "      <th>county</th>\n",
              "      <th>postal</th>\n",
              "      <th>phone1</th>\n",
              "      <th>phone2</th>\n",
              "      <th>email</th>\n",
              "      <th>web</th>\n",
              "    </tr>\n",
              "  </thead>\n",
              "  <tbody>\n",
              "    <tr>\n",
              "      <th>0</th>\n",
              "      <td>Aleshia</td>\n",
              "      <td>Tomkiewicz</td>\n",
              "      <td>Alan D Rosenburg Cpa Pc</td>\n",
              "      <td>14 Taylor St</td>\n",
              "      <td>St. Stephens Ward</td>\n",
              "      <td>Kent</td>\n",
              "      <td>CT2 7PP</td>\n",
              "      <td>01835-703597</td>\n",
              "      <td>01944-369967</td>\n",
              "      <td>atomkiewicz@hotmail.com</td>\n",
              "      <td>http://www.alandrosenburgcpapc.co.uk</td>\n",
              "    </tr>\n",
              "    <tr>\n",
              "      <th>1</th>\n",
              "      <td>Evan</td>\n",
              "      <td>Zigomalas</td>\n",
              "      <td>Cap Gemini America</td>\n",
              "      <td>5 Binney St</td>\n",
              "      <td>Abbey Ward</td>\n",
              "      <td>Buckinghamshire</td>\n",
              "      <td>HP11 2AX</td>\n",
              "      <td>01937-864715</td>\n",
              "      <td>01714-737668</td>\n",
              "      <td>evan.zigomalas@gmail.com</td>\n",
              "      <td>http://www.capgeminiamerica.co.uk</td>\n",
              "    </tr>\n",
              "    <tr>\n",
              "      <th>2</th>\n",
              "      <td>France</td>\n",
              "      <td>Andrade</td>\n",
              "      <td>Elliott, John W Esq</td>\n",
              "      <td>8 Moor Place</td>\n",
              "      <td>East Southbourne and Tuckton W</td>\n",
              "      <td>Bournemouth</td>\n",
              "      <td>BH6 3BE</td>\n",
              "      <td>01347-368222</td>\n",
              "      <td>01935-821636</td>\n",
              "      <td>france.andrade@hotmail.com</td>\n",
              "      <td>http://www.elliottjohnwesq.co.uk</td>\n",
              "    </tr>\n",
              "    <tr>\n",
              "      <th>3</th>\n",
              "      <td>Ulysses</td>\n",
              "      <td>Mcwalters</td>\n",
              "      <td>Mcmahan, Ben L</td>\n",
              "      <td>505 Exeter Rd</td>\n",
              "      <td>Hawerby cum Beesby</td>\n",
              "      <td>Lincolnshire</td>\n",
              "      <td>DN36 5RP</td>\n",
              "      <td>01912-771311</td>\n",
              "      <td>01302-601380</td>\n",
              "      <td>ulysses@hotmail.com</td>\n",
              "      <td>http://www.mcmahanbenl.co.uk</td>\n",
              "    </tr>\n",
              "    <tr>\n",
              "      <th>4</th>\n",
              "      <td>Tyisha</td>\n",
              "      <td>Veness</td>\n",
              "      <td>Champagne Room</td>\n",
              "      <td>5396 Forth Street</td>\n",
              "      <td>Greets Green and Lyng Ward</td>\n",
              "      <td>West Midlands</td>\n",
              "      <td>B70 9DT</td>\n",
              "      <td>01547-429341</td>\n",
              "      <td>01290-367248</td>\n",
              "      <td>tyisha.veness@hotmail.com</td>\n",
              "      <td>http://www.champagneroom.co.uk</td>\n",
              "    </tr>\n",
              "  </tbody>\n",
              "</table>\n",
              "</div>"
            ],
            "text/plain": [
              "  first_name  ...                                   web\n",
              "0    Aleshia  ...  http://www.alandrosenburgcpapc.co.uk\n",
              "1       Evan  ...     http://www.capgeminiamerica.co.uk\n",
              "2     France  ...      http://www.elliottjohnwesq.co.uk\n",
              "3    Ulysses  ...          http://www.mcmahanbenl.co.uk\n",
              "4     Tyisha  ...        http://www.champagneroom.co.uk\n",
              "\n",
              "[5 rows x 11 columns]"
            ]
          },
          "metadata": {},
          "execution_count": 17
        }
      ]
    },
    {
      "cell_type": "markdown",
      "metadata": {
        "id": "LsE9XNi0reLA"
      },
      "source": [
        "## Sampling techniques"
      ]
    },
    {
      "cell_type": "markdown",
      "metadata": {
        "id": "RBwuT8HPrnd2"
      },
      "source": [
        "### Simple Random Sampling"
      ]
    },
    {
      "cell_type": "markdown",
      "metadata": {
        "id": "VH1GJM9Q8Y6X"
      },
      "source": [
        "df.sample(n, frac, replace, random_state)"
      ]
    },
    {
      "cell_type": "code",
      "metadata": {
        "colab": {
          "base_uri": "https://localhost:8080/",
          "height": 192
        },
        "id": "f1f_ZwGMeb-4",
        "outputId": "5e0c82ac-cef1-4c7e-956d-d1f328251eea"
      },
      "source": [
        "d1.sample(n=3)"
      ],
      "execution_count": null,
      "outputs": [
        {
          "output_type": "execute_result",
          "data": {
            "text/html": [
              "<div>\n",
              "<style scoped>\n",
              "    .dataframe tbody tr th:only-of-type {\n",
              "        vertical-align: middle;\n",
              "    }\n",
              "\n",
              "    .dataframe tbody tr th {\n",
              "        vertical-align: top;\n",
              "    }\n",
              "\n",
              "    .dataframe thead th {\n",
              "        text-align: right;\n",
              "    }\n",
              "</style>\n",
              "<table border=\"1\" class=\"dataframe\">\n",
              "  <thead>\n",
              "    <tr style=\"text-align: right;\">\n",
              "      <th></th>\n",
              "      <th>first_name</th>\n",
              "      <th>last_name</th>\n",
              "      <th>company_name</th>\n",
              "      <th>address</th>\n",
              "      <th>city</th>\n",
              "      <th>county</th>\n",
              "      <th>postal</th>\n",
              "      <th>phone1</th>\n",
              "      <th>phone2</th>\n",
              "      <th>email</th>\n",
              "      <th>web</th>\n",
              "    </tr>\n",
              "  </thead>\n",
              "  <tbody>\n",
              "    <tr>\n",
              "      <th>334</th>\n",
              "      <td>Anika</td>\n",
              "      <td>Marse</td>\n",
              "      <td>Milton Terry Associates</td>\n",
              "      <td>231 Wordsworth St</td>\n",
              "      <td>Harrow Weald Ward</td>\n",
              "      <td>Greater London</td>\n",
              "      <td>HA3 6TH</td>\n",
              "      <td>01942-654793</td>\n",
              "      <td>01654-746253</td>\n",
              "      <td>anika@marse.co.uk</td>\n",
              "      <td>http://www.miltonterryassociates.co.uk</td>\n",
              "    </tr>\n",
              "    <tr>\n",
              "      <th>449</th>\n",
              "      <td>Carolann</td>\n",
              "      <td>Gross</td>\n",
              "      <td>Leem Company Inc</td>\n",
              "      <td>6352 Grosvenor St</td>\n",
              "      <td>Wombourne</td>\n",
              "      <td>Staffordshire</td>\n",
              "      <td>WV5 0LP</td>\n",
              "      <td>01470-609953</td>\n",
              "      <td>01672-859754</td>\n",
              "      <td>carolann@gross.co.uk</td>\n",
              "      <td>http://www.leemcompanyinc.co.uk</td>\n",
              "    </tr>\n",
              "    <tr>\n",
              "      <th>436</th>\n",
              "      <td>Nettie</td>\n",
              "      <td>Aldaco</td>\n",
              "      <td>Miller Searl &amp; Fitch</td>\n",
              "      <td>51 Freehold St #224</td>\n",
              "      <td>Wheatley Ward</td>\n",
              "      <td>Yorkshire, South</td>\n",
              "      <td>DN2 4PP</td>\n",
              "      <td>01388-974910</td>\n",
              "      <td>01681-983353</td>\n",
              "      <td>nettie.aldaco@yahoo.com</td>\n",
              "      <td>http://www.millersearlfitch.co.uk</td>\n",
              "    </tr>\n",
              "  </tbody>\n",
              "</table>\n",
              "</div>"
            ],
            "text/plain": [
              "    first_name  ...                                     web\n",
              "334      Anika  ...  http://www.miltonterryassociates.co.uk\n",
              "449   Carolann  ...         http://www.leemcompanyinc.co.uk\n",
              "436     Nettie  ...       http://www.millersearlfitch.co.uk\n",
              "\n",
              "[3 rows x 11 columns]"
            ]
          },
          "metadata": {},
          "execution_count": 19
        }
      ]
    },
    {
      "cell_type": "code",
      "metadata": {
        "colab": {
          "base_uri": "https://localhost:8080/",
          "height": 192
        },
        "id": "vA4QpqBje-81",
        "outputId": "aba51c3a-6c75-43e2-c428-d094a195fe8b"
      },
      "source": [
        "d1.sample(n=3, random_state = 42)"
      ],
      "execution_count": null,
      "outputs": [
        {
          "output_type": "execute_result",
          "data": {
            "text/html": [
              "<div>\n",
              "<style scoped>\n",
              "    .dataframe tbody tr th:only-of-type {\n",
              "        vertical-align: middle;\n",
              "    }\n",
              "\n",
              "    .dataframe tbody tr th {\n",
              "        vertical-align: top;\n",
              "    }\n",
              "\n",
              "    .dataframe thead th {\n",
              "        text-align: right;\n",
              "    }\n",
              "</style>\n",
              "<table border=\"1\" class=\"dataframe\">\n",
              "  <thead>\n",
              "    <tr style=\"text-align: right;\">\n",
              "      <th></th>\n",
              "      <th>first_name</th>\n",
              "      <th>last_name</th>\n",
              "      <th>company_name</th>\n",
              "      <th>address</th>\n",
              "      <th>city</th>\n",
              "      <th>county</th>\n",
              "      <th>postal</th>\n",
              "      <th>phone1</th>\n",
              "      <th>phone2</th>\n",
              "      <th>email</th>\n",
              "      <th>web</th>\n",
              "    </tr>\n",
              "  </thead>\n",
              "  <tbody>\n",
              "    <tr>\n",
              "      <th>361</th>\n",
              "      <td>Celia</td>\n",
              "      <td>Reisling</td>\n",
              "      <td>Bridger Valley General Store</td>\n",
              "      <td>8362 Whithorn St</td>\n",
              "      <td>Leatherhead South Ward</td>\n",
              "      <td>Surrey</td>\n",
              "      <td>KT22 8AP</td>\n",
              "      <td>01309-159593</td>\n",
              "      <td>01299-509105</td>\n",
              "      <td>celia.reisling@hotmail.com</td>\n",
              "      <td>http://www.bridgervalleygeneralstore.co.uk</td>\n",
              "    </tr>\n",
              "    <tr>\n",
              "      <th>73</th>\n",
              "      <td>Yun</td>\n",
              "      <td>Paletta</td>\n",
              "      <td>Goe, Douglas E Esq</td>\n",
              "      <td>9205 Upper Hill St</td>\n",
              "      <td>City and Hunslet Ward</td>\n",
              "      <td>West Yorkshire</td>\n",
              "      <td>LS1 5QE</td>\n",
              "      <td>01350-332706</td>\n",
              "      <td>01374-255198</td>\n",
              "      <td>yun_paletta@paletta.co.uk</td>\n",
              "      <td>http://www.goedouglaseesq.co.uk</td>\n",
              "    </tr>\n",
              "    <tr>\n",
              "      <th>374</th>\n",
              "      <td>Keneth</td>\n",
              "      <td>Stpierrie</td>\n",
              "      <td>Mueller Repro Blue Printg</td>\n",
              "      <td>2 Seacombe St</td>\n",
              "      <td>Littleborough Lakeside Ward</td>\n",
              "      <td>Greater Manchester</td>\n",
              "      <td>OL15 0JP</td>\n",
              "      <td>01919-731224</td>\n",
              "      <td>01325-412836</td>\n",
              "      <td>keneth_stpierrie@hotmail.com</td>\n",
              "      <td>http://www.muellerreproblueprintg.co.uk</td>\n",
              "    </tr>\n",
              "  </tbody>\n",
              "</table>\n",
              "</div>"
            ],
            "text/plain": [
              "    first_name  ...                                         web\n",
              "361      Celia  ...  http://www.bridgervalleygeneralstore.co.uk\n",
              "73         Yun  ...             http://www.goedouglaseesq.co.uk\n",
              "374     Keneth  ...     http://www.muellerreproblueprintg.co.uk\n",
              "\n",
              "[3 rows x 11 columns]"
            ]
          },
          "metadata": {},
          "execution_count": 20
        }
      ]
    },
    {
      "cell_type": "code",
      "metadata": {
        "colab": {
          "base_uri": "https://localhost:8080/",
          "height": 585
        },
        "id": "uCmtfTBmfNeT",
        "outputId": "093b2068-de9a-4883-eaf3-f3296de0d103"
      },
      "source": [
        "d1.sample(frac=0.25, replace = True, random_state = 5)"
      ],
      "execution_count": null,
      "outputs": [
        {
          "output_type": "execute_result",
          "data": {
            "text/html": [
              "<div>\n",
              "<style scoped>\n",
              "    .dataframe tbody tr th:only-of-type {\n",
              "        vertical-align: middle;\n",
              "    }\n",
              "\n",
              "    .dataframe tbody tr th {\n",
              "        vertical-align: top;\n",
              "    }\n",
              "\n",
              "    .dataframe thead th {\n",
              "        text-align: right;\n",
              "    }\n",
              "</style>\n",
              "<table border=\"1\" class=\"dataframe\">\n",
              "  <thead>\n",
              "    <tr style=\"text-align: right;\">\n",
              "      <th></th>\n",
              "      <th>first_name</th>\n",
              "      <th>last_name</th>\n",
              "      <th>company_name</th>\n",
              "      <th>address</th>\n",
              "      <th>city</th>\n",
              "      <th>county</th>\n",
              "      <th>postal</th>\n",
              "      <th>phone1</th>\n",
              "      <th>phone2</th>\n",
              "      <th>email</th>\n",
              "      <th>web</th>\n",
              "    </tr>\n",
              "  </thead>\n",
              "  <tbody>\n",
              "    <tr>\n",
              "      <th>355</th>\n",
              "      <td>Margery</td>\n",
              "      <td>Rohrs</td>\n",
              "      <td>C G Mccullough Insurance Agcy</td>\n",
              "      <td>40 Peters Lane</td>\n",
              "      <td>Long Preston</td>\n",
              "      <td>North Yorkshire</td>\n",
              "      <td>BD23 4NF</td>\n",
              "      <td>01634-340524</td>\n",
              "      <td>01933-273913</td>\n",
              "      <td>margery@hotmail.com</td>\n",
              "      <td>http://www.cgmcculloughinsuranceagcy.co.uk</td>\n",
              "    </tr>\n",
              "    <tr>\n",
              "      <th>206</th>\n",
              "      <td>Ashanti</td>\n",
              "      <td>Donn</td>\n",
              "      <td>Denticator</td>\n",
              "      <td>3409 Benns Gardens</td>\n",
              "      <td>Hollington Ward</td>\n",
              "      <td>East Sussex</td>\n",
              "      <td>TN38 9NE</td>\n",
              "      <td>01352-599278</td>\n",
              "      <td>01721-697548</td>\n",
              "      <td>adonn@yahoo.com</td>\n",
              "      <td>http://www.denticator.co.uk</td>\n",
              "    </tr>\n",
              "    <tr>\n",
              "      <th>495</th>\n",
              "      <td>Avery</td>\n",
              "      <td>Veit</td>\n",
              "      <td>Plaza Gourmet Delicatessen</td>\n",
              "      <td>9166 Devon St #905</td>\n",
              "      <td>Knightsbridge and Belgravia Wa</td>\n",
              "      <td>Greater London</td>\n",
              "      <td>SW1W 8JY</td>\n",
              "      <td>01748-625058</td>\n",
              "      <td>01369-185737</td>\n",
              "      <td>avery@veit.co.uk</td>\n",
              "      <td>http://www.plazagourmetdelicatessen.co.uk</td>\n",
              "    </tr>\n",
              "    <tr>\n",
              "      <th>189</th>\n",
              "      <td>Zita</td>\n",
              "      <td>Speltz</td>\n",
              "      <td>Mmm Design Group</td>\n",
              "      <td>2395 Gloucester Pl</td>\n",
              "      <td>Halliwell Ward</td>\n",
              "      <td>Greater Manchester</td>\n",
              "      <td>BL1 6DS</td>\n",
              "      <td>01368-497445</td>\n",
              "      <td>01215-755682</td>\n",
              "      <td>zita_speltz@yahoo.com</td>\n",
              "      <td>http://www.mmmdesigngroup.co.uk</td>\n",
              "    </tr>\n",
              "    <tr>\n",
              "      <th>486</th>\n",
              "      <td>Sophia</td>\n",
              "      <td>Gaucher</td>\n",
              "      <td>T C E Systems Inc</td>\n",
              "      <td>88 Upper Harrington St</td>\n",
              "      <td>North East Ward</td>\n",
              "      <td>North Lanarkshire</td>\n",
              "      <td>G69 8EL</td>\n",
              "      <td>01504-539114</td>\n",
              "      <td>01254-919378</td>\n",
              "      <td>sophia.gaucher@hotmail.com</td>\n",
              "      <td>http://www.tcesystemsinc.co.uk</td>\n",
              "    </tr>\n",
              "    <tr>\n",
              "      <th>...</th>\n",
              "      <td>...</td>\n",
              "      <td>...</td>\n",
              "      <td>...</td>\n",
              "      <td>...</td>\n",
              "      <td>...</td>\n",
              "      <td>...</td>\n",
              "      <td>...</td>\n",
              "      <td>...</td>\n",
              "      <td>...</td>\n",
              "      <td>...</td>\n",
              "      <td>...</td>\n",
              "    </tr>\n",
              "    <tr>\n",
              "      <th>264</th>\n",
              "      <td>Lilli</td>\n",
              "      <td>Cureau</td>\n",
              "      <td>A 1 Plumbers Supply</td>\n",
              "      <td>42 Hey Green Rd</td>\n",
              "      <td>Deepdale Ward</td>\n",
              "      <td>Lancashire</td>\n",
              "      <td>PR1 6TL</td>\n",
              "      <td>01752-399931</td>\n",
              "      <td>01363-139614</td>\n",
              "      <td>lilli@yahoo.com</td>\n",
              "      <td>http://www.aplumberssupply.co.uk</td>\n",
              "    </tr>\n",
              "    <tr>\n",
              "      <th>474</th>\n",
              "      <td>Erasmo</td>\n",
              "      <td>Rhea</td>\n",
              "      <td>Martin Morrissey</td>\n",
              "      <td>5544 Sutherland St</td>\n",
              "      <td>Mortehoe</td>\n",
              "      <td>Devon</td>\n",
              "      <td>EX34 7DQ</td>\n",
              "      <td>01507-386397</td>\n",
              "      <td>01899-316385</td>\n",
              "      <td>erasmo_rhea@hotmail.com</td>\n",
              "      <td>http://www.martinmorrissey.co.uk</td>\n",
              "    </tr>\n",
              "    <tr>\n",
              "      <th>44</th>\n",
              "      <td>Kip</td>\n",
              "      <td>Turziano</td>\n",
              "      <td>General Appraisal Co</td>\n",
              "      <td>37 Meadow St</td>\n",
              "      <td>Laindon Park Ward</td>\n",
              "      <td>Essex</td>\n",
              "      <td>SS15 6LE</td>\n",
              "      <td>01850-347846</td>\n",
              "      <td>01222-164469</td>\n",
              "      <td>kip.turziano@yahoo.com</td>\n",
              "      <td>http://www.generalappraisalco.co.uk</td>\n",
              "    </tr>\n",
              "    <tr>\n",
              "      <th>126</th>\n",
              "      <td>Beth</td>\n",
              "      <td>Barbone</td>\n",
              "      <td>Upper Deck Co</td>\n",
              "      <td>3 Gaskell St</td>\n",
              "      <td>Tynemouth Ward</td>\n",
              "      <td>Tyne and Wear</td>\n",
              "      <td>NE30 2NB</td>\n",
              "      <td>01210-926114</td>\n",
              "      <td>01521-151330</td>\n",
              "      <td>bbarbone@barbone.co.uk</td>\n",
              "      <td>http://www.upperdeckco.co.uk</td>\n",
              "    </tr>\n",
              "    <tr>\n",
              "      <th>165</th>\n",
              "      <td>Marshall</td>\n",
              "      <td>Kozikowski</td>\n",
              "      <td>Viking Lodge</td>\n",
              "      <td>47 Elwy St</td>\n",
              "      <td>Kilpatrick Ward</td>\n",
              "      <td>West Dunbart</td>\n",
              "      <td>G81 6RT</td>\n",
              "      <td>01913-454226</td>\n",
              "      <td>01738-622885</td>\n",
              "      <td>marshall@hotmail.com</td>\n",
              "      <td>http://www.vikinglodge.co.uk</td>\n",
              "    </tr>\n",
              "  </tbody>\n",
              "</table>\n",
              "<p>125 rows × 11 columns</p>\n",
              "</div>"
            ],
            "text/plain": [
              "    first_name  ...                                         web\n",
              "355    Margery  ...  http://www.cgmcculloughinsuranceagcy.co.uk\n",
              "206    Ashanti  ...                 http://www.denticator.co.uk\n",
              "495      Avery  ...   http://www.plazagourmetdelicatessen.co.uk\n",
              "189       Zita  ...             http://www.mmmdesigngroup.co.uk\n",
              "486     Sophia  ...              http://www.tcesystemsinc.co.uk\n",
              "..         ...  ...                                         ...\n",
              "264      Lilli  ...            http://www.aplumberssupply.co.uk\n",
              "474     Erasmo  ...            http://www.martinmorrissey.co.uk\n",
              "44         Kip  ...         http://www.generalappraisalco.co.uk\n",
              "126       Beth  ...                http://www.upperdeckco.co.uk\n",
              "165   Marshall  ...                http://www.vikinglodge.co.uk\n",
              "\n",
              "[125 rows x 11 columns]"
            ]
          },
          "metadata": {},
          "execution_count": 10
        }
      ]
    },
    {
      "cell_type": "code",
      "metadata": {
        "colab": {
          "base_uri": "https://localhost:8080/"
        },
        "id": "FRtBnvflfgUK",
        "outputId": "bebb2ef4-9bdd-44bb-ff51-90f37aee140c"
      },
      "source": [
        "d1.shape"
      ],
      "execution_count": null,
      "outputs": [
        {
          "output_type": "execute_result",
          "data": {
            "text/plain": [
              "(500, 11)"
            ]
          },
          "metadata": {},
          "execution_count": 11
        }
      ]
    },
    {
      "cell_type": "markdown",
      "metadata": {
        "id": "RzOW9GKar2Hi"
      },
      "source": [
        "### Stratified Sampling"
      ]
    },
    {
      "cell_type": "code",
      "metadata": {
        "colab": {
          "base_uri": "https://localhost:8080/",
          "height": 203
        },
        "id": "pyH1bQ4vw7sr",
        "outputId": "8ce57b23-9080-4355-f3da-6d623142d8ce"
      },
      "source": [
        "d2 = pd.read_csv('https://raw.githubusercontent.com/dayanandv/Data-Science/main/dataset/StudentsPerformance.csv')\n",
        "d2.head()"
      ],
      "execution_count": null,
      "outputs": [
        {
          "output_type": "execute_result",
          "data": {
            "text/html": [
              "<div>\n",
              "<style scoped>\n",
              "    .dataframe tbody tr th:only-of-type {\n",
              "        vertical-align: middle;\n",
              "    }\n",
              "\n",
              "    .dataframe tbody tr th {\n",
              "        vertical-align: top;\n",
              "    }\n",
              "\n",
              "    .dataframe thead th {\n",
              "        text-align: right;\n",
              "    }\n",
              "</style>\n",
              "<table border=\"1\" class=\"dataframe\">\n",
              "  <thead>\n",
              "    <tr style=\"text-align: right;\">\n",
              "      <th></th>\n",
              "      <th>gender</th>\n",
              "      <th>race/ethnicity</th>\n",
              "      <th>parental level of education</th>\n",
              "      <th>lunch</th>\n",
              "      <th>test preparation course</th>\n",
              "      <th>math score</th>\n",
              "      <th>reading score</th>\n",
              "      <th>writing score</th>\n",
              "    </tr>\n",
              "  </thead>\n",
              "  <tbody>\n",
              "    <tr>\n",
              "      <th>0</th>\n",
              "      <td>female</td>\n",
              "      <td>group B</td>\n",
              "      <td>bachelor's degree</td>\n",
              "      <td>standard</td>\n",
              "      <td>none</td>\n",
              "      <td>72</td>\n",
              "      <td>72</td>\n",
              "      <td>74</td>\n",
              "    </tr>\n",
              "    <tr>\n",
              "      <th>1</th>\n",
              "      <td>female</td>\n",
              "      <td>group C</td>\n",
              "      <td>some college</td>\n",
              "      <td>standard</td>\n",
              "      <td>completed</td>\n",
              "      <td>69</td>\n",
              "      <td>90</td>\n",
              "      <td>88</td>\n",
              "    </tr>\n",
              "    <tr>\n",
              "      <th>2</th>\n",
              "      <td>female</td>\n",
              "      <td>group B</td>\n",
              "      <td>master's degree</td>\n",
              "      <td>standard</td>\n",
              "      <td>none</td>\n",
              "      <td>90</td>\n",
              "      <td>95</td>\n",
              "      <td>93</td>\n",
              "    </tr>\n",
              "    <tr>\n",
              "      <th>3</th>\n",
              "      <td>male</td>\n",
              "      <td>group A</td>\n",
              "      <td>associate's degree</td>\n",
              "      <td>free/reduced</td>\n",
              "      <td>none</td>\n",
              "      <td>47</td>\n",
              "      <td>57</td>\n",
              "      <td>44</td>\n",
              "    </tr>\n",
              "    <tr>\n",
              "      <th>4</th>\n",
              "      <td>male</td>\n",
              "      <td>group C</td>\n",
              "      <td>some college</td>\n",
              "      <td>standard</td>\n",
              "      <td>none</td>\n",
              "      <td>76</td>\n",
              "      <td>78</td>\n",
              "      <td>75</td>\n",
              "    </tr>\n",
              "  </tbody>\n",
              "</table>\n",
              "</div>"
            ],
            "text/plain": [
              "   gender race/ethnicity  ... reading score writing score\n",
              "0  female        group B  ...            72            74\n",
              "1  female        group C  ...            90            88\n",
              "2  female        group B  ...            95            93\n",
              "3    male        group A  ...            57            44\n",
              "4    male        group C  ...            78            75\n",
              "\n",
              "[5 rows x 8 columns]"
            ]
          },
          "metadata": {},
          "execution_count": 21
        }
      ]
    },
    {
      "cell_type": "code",
      "metadata": {
        "colab": {
          "base_uri": "https://localhost:8080/",
          "height": 296
        },
        "id": "nz6YHLr5gDVx",
        "outputId": "845bc657-b45f-4820-fb5a-68b002193048"
      },
      "source": [
        "sns.histplot(d2['race/ethnicity'])"
      ],
      "execution_count": null,
      "outputs": [
        {
          "output_type": "execute_result",
          "data": {
            "text/plain": [
              "<matplotlib.axes._subplots.AxesSubplot at 0x7f3a0286a2d0>"
            ]
          },
          "metadata": {},
          "execution_count": 23
        },
        {
          "output_type": "display_data",
          "data": {
            "image/png": "[encoded data removed]",
            "text/plain": [
              "<Figure size 432x288 with 1 Axes>"
            ]
          },
          "metadata": {
            "needs_background": "light"
          }
        }
      ]
    },
    {
      "cell_type": "code",
      "metadata": {
        "colab": {
          "base_uri": "https://localhost:8080/",
          "height": 511
        },
        "id": "XqNpBEx-gm0v",
        "outputId": "f0bd4c92-30d1-4d6c-a574-63e85018520a"
      },
      "source": [
        "d2.groupby('race/ethnicity', group_keys=False).apply(lambda x:x.sample(min(len(x), 3)))"
      ],
      "execution_count": null,
      "outputs": [
        {
          "output_type": "execute_result",
          "data": {
            "text/html": [
              "<div>\n",
              "<style scoped>\n",
              "    .dataframe tbody tr th:only-of-type {\n",
              "        vertical-align: middle;\n",
              "    }\n",
              "\n",
              "    .dataframe tbody tr th {\n",
              "        vertical-align: top;\n",
              "    }\n",
              "\n",
              "    .dataframe thead th {\n",
              "        text-align: right;\n",
              "    }\n",
              "</style>\n",
              "<table border=\"1\" class=\"dataframe\">\n",
              "  <thead>\n",
              "    <tr style=\"text-align: right;\">\n",
              "      <th></th>\n",
              "      <th>gender</th>\n",
              "      <th>race/ethnicity</th>\n",
              "      <th>parental level of education</th>\n",
              "      <th>lunch</th>\n",
              "      <th>test preparation course</th>\n",
              "      <th>math score</th>\n",
              "      <th>reading score</th>\n",
              "      <th>writing score</th>\n",
              "    </tr>\n",
              "  </thead>\n",
              "  <tbody>\n",
              "    <tr>\n",
              "      <th>705</th>\n",
              "      <td>male</td>\n",
              "      <td>group A</td>\n",
              "      <td>bachelor's degree</td>\n",
              "      <td>free/reduced</td>\n",
              "      <td>none</td>\n",
              "      <td>62</td>\n",
              "      <td>72</td>\n",
              "      <td>65</td>\n",
              "    </tr>\n",
              "    <tr>\n",
              "      <th>985</th>\n",
              "      <td>male</td>\n",
              "      <td>group A</td>\n",
              "      <td>high school</td>\n",
              "      <td>standard</td>\n",
              "      <td>none</td>\n",
              "      <td>57</td>\n",
              "      <td>51</td>\n",
              "      <td>54</td>\n",
              "    </tr>\n",
              "    <tr>\n",
              "      <th>442</th>\n",
              "      <td>female</td>\n",
              "      <td>group A</td>\n",
              "      <td>some high school</td>\n",
              "      <td>free/reduced</td>\n",
              "      <td>none</td>\n",
              "      <td>59</td>\n",
              "      <td>73</td>\n",
              "      <td>69</td>\n",
              "    </tr>\n",
              "    <tr>\n",
              "      <th>923</th>\n",
              "      <td>female</td>\n",
              "      <td>group B</td>\n",
              "      <td>associate's degree</td>\n",
              "      <td>free/reduced</td>\n",
              "      <td>none</td>\n",
              "      <td>54</td>\n",
              "      <td>65</td>\n",
              "      <td>65</td>\n",
              "    </tr>\n",
              "    <tr>\n",
              "      <th>43</th>\n",
              "      <td>male</td>\n",
              "      <td>group B</td>\n",
              "      <td>some college</td>\n",
              "      <td>free/reduced</td>\n",
              "      <td>completed</td>\n",
              "      <td>59</td>\n",
              "      <td>65</td>\n",
              "      <td>66</td>\n",
              "    </tr>\n",
              "    <tr>\n",
              "      <th>782</th>\n",
              "      <td>female</td>\n",
              "      <td>group B</td>\n",
              "      <td>high school</td>\n",
              "      <td>free/reduced</td>\n",
              "      <td>completed</td>\n",
              "      <td>76</td>\n",
              "      <td>85</td>\n",
              "      <td>82</td>\n",
              "    </tr>\n",
              "    <tr>\n",
              "      <th>147</th>\n",
              "      <td>male</td>\n",
              "      <td>group C</td>\n",
              "      <td>associate's degree</td>\n",
              "      <td>free/reduced</td>\n",
              "      <td>none</td>\n",
              "      <td>73</td>\n",
              "      <td>68</td>\n",
              "      <td>66</td>\n",
              "    </tr>\n",
              "    <tr>\n",
              "      <th>204</th>\n",
              "      <td>male</td>\n",
              "      <td>group C</td>\n",
              "      <td>some college</td>\n",
              "      <td>standard</td>\n",
              "      <td>none</td>\n",
              "      <td>59</td>\n",
              "      <td>41</td>\n",
              "      <td>42</td>\n",
              "    </tr>\n",
              "    <tr>\n",
              "      <th>913</th>\n",
              "      <td>female</td>\n",
              "      <td>group C</td>\n",
              "      <td>bachelor's degree</td>\n",
              "      <td>free/reduced</td>\n",
              "      <td>completed</td>\n",
              "      <td>47</td>\n",
              "      <td>62</td>\n",
              "      <td>66</td>\n",
              "    </tr>\n",
              "    <tr>\n",
              "      <th>780</th>\n",
              "      <td>female</td>\n",
              "      <td>group D</td>\n",
              "      <td>associate's degree</td>\n",
              "      <td>free/reduced</td>\n",
              "      <td>none</td>\n",
              "      <td>46</td>\n",
              "      <td>56</td>\n",
              "      <td>57</td>\n",
              "    </tr>\n",
              "    <tr>\n",
              "      <th>961</th>\n",
              "      <td>female</td>\n",
              "      <td>group D</td>\n",
              "      <td>some high school</td>\n",
              "      <td>free/reduced</td>\n",
              "      <td>none</td>\n",
              "      <td>48</td>\n",
              "      <td>54</td>\n",
              "      <td>53</td>\n",
              "    </tr>\n",
              "    <tr>\n",
              "      <th>603</th>\n",
              "      <td>male</td>\n",
              "      <td>group D</td>\n",
              "      <td>high school</td>\n",
              "      <td>free/reduced</td>\n",
              "      <td>none</td>\n",
              "      <td>60</td>\n",
              "      <td>57</td>\n",
              "      <td>51</td>\n",
              "    </tr>\n",
              "    <tr>\n",
              "      <th>545</th>\n",
              "      <td>male</td>\n",
              "      <td>group E</td>\n",
              "      <td>some high school</td>\n",
              "      <td>free/reduced</td>\n",
              "      <td>completed</td>\n",
              "      <td>78</td>\n",
              "      <td>83</td>\n",
              "      <td>80</td>\n",
              "    </tr>\n",
              "    <tr>\n",
              "      <th>852</th>\n",
              "      <td>female</td>\n",
              "      <td>group E</td>\n",
              "      <td>some college</td>\n",
              "      <td>standard</td>\n",
              "      <td>none</td>\n",
              "      <td>87</td>\n",
              "      <td>85</td>\n",
              "      <td>93</td>\n",
              "    </tr>\n",
              "    <tr>\n",
              "      <th>813</th>\n",
              "      <td>male</td>\n",
              "      <td>group E</td>\n",
              "      <td>some high school</td>\n",
              "      <td>standard</td>\n",
              "      <td>completed</td>\n",
              "      <td>87</td>\n",
              "      <td>84</td>\n",
              "      <td>76</td>\n",
              "    </tr>\n",
              "  </tbody>\n",
              "</table>\n",
              "</div>"
            ],
            "text/plain": [
              "     gender race/ethnicity  ... reading score writing score\n",
              "705    male        group A  ...            72            65\n",
              "985    male        group A  ...            51            54\n",
              "442  female        group A  ...            73            69\n",
              "923  female        group B  ...            65            65\n",
              "43     male        group B  ...            65            66\n",
              "782  female        group B  ...            85            82\n",
              "147    male        group C  ...            68            66\n",
              "204    male        group C  ...            41            42\n",
              "913  female        group C  ...            62            66\n",
              "780  female        group D  ...            56            57\n",
              "961  female        group D  ...            54            53\n",
              "603    male        group D  ...            57            51\n",
              "545    male        group E  ...            83            80\n",
              "852  female        group E  ...            85            93\n",
              "813    male        group E  ...            84            76\n",
              "\n",
              "[15 rows x 8 columns]"
            ]
          },
          "metadata": {},
          "execution_count": 24
        }
      ]
    },
    {
      "cell_type": "markdown",
      "metadata": {
        "id": "J_4DoZ6fr_85"
      },
      "source": [
        "### Systematic Sampling"
      ]
    },
    {
      "cell_type": "code",
      "metadata": {
        "colab": {
          "base_uri": "https://localhost:8080/",
          "height": 417
        },
        "id": "KAWqE5dPx8iM",
        "outputId": "591e7744-f073-4d40-8f25-fa904f99b421"
      },
      "source": [
        "step_size = 6\n",
        "d2.iloc[::step_size]"
      ],
      "execution_count": null,
      "outputs": [
        {
          "output_type": "execute_result",
          "data": {
            "text/html": [
              "<div>\n",
              "<style scoped>\n",
              "    .dataframe tbody tr th:only-of-type {\n",
              "        vertical-align: middle;\n",
              "    }\n",
              "\n",
              "    .dataframe tbody tr th {\n",
              "        vertical-align: top;\n",
              "    }\n",
              "\n",
              "    .dataframe thead th {\n",
              "        text-align: right;\n",
              "    }\n",
              "</style>\n",
              "<table border=\"1\" class=\"dataframe\">\n",
              "  <thead>\n",
              "    <tr style=\"text-align: right;\">\n",
              "      <th></th>\n",
              "      <th>gender</th>\n",
              "      <th>race/ethnicity</th>\n",
              "      <th>parental level of education</th>\n",
              "      <th>lunch</th>\n",
              "      <th>test preparation course</th>\n",
              "      <th>math score</th>\n",
              "      <th>reading score</th>\n",
              "      <th>writing score</th>\n",
              "    </tr>\n",
              "  </thead>\n",
              "  <tbody>\n",
              "    <tr>\n",
              "      <th>0</th>\n",
              "      <td>female</td>\n",
              "      <td>group B</td>\n",
              "      <td>bachelor's degree</td>\n",
              "      <td>standard</td>\n",
              "      <td>none</td>\n",
              "      <td>72</td>\n",
              "      <td>72</td>\n",
              "      <td>74</td>\n",
              "    </tr>\n",
              "    <tr>\n",
              "      <th>6</th>\n",
              "      <td>female</td>\n",
              "      <td>group B</td>\n",
              "      <td>some college</td>\n",
              "      <td>standard</td>\n",
              "      <td>completed</td>\n",
              "      <td>88</td>\n",
              "      <td>95</td>\n",
              "      <td>92</td>\n",
              "    </tr>\n",
              "    <tr>\n",
              "      <th>12</th>\n",
              "      <td>female</td>\n",
              "      <td>group B</td>\n",
              "      <td>high school</td>\n",
              "      <td>standard</td>\n",
              "      <td>none</td>\n",
              "      <td>65</td>\n",
              "      <td>81</td>\n",
              "      <td>73</td>\n",
              "    </tr>\n",
              "    <tr>\n",
              "      <th>18</th>\n",
              "      <td>male</td>\n",
              "      <td>group C</td>\n",
              "      <td>master's degree</td>\n",
              "      <td>free/reduced</td>\n",
              "      <td>completed</td>\n",
              "      <td>46</td>\n",
              "      <td>42</td>\n",
              "      <td>46</td>\n",
              "    </tr>\n",
              "    <tr>\n",
              "      <th>24</th>\n",
              "      <td>male</td>\n",
              "      <td>group D</td>\n",
              "      <td>bachelor's degree</td>\n",
              "      <td>free/reduced</td>\n",
              "      <td>completed</td>\n",
              "      <td>74</td>\n",
              "      <td>71</td>\n",
              "      <td>80</td>\n",
              "    </tr>\n",
              "    <tr>\n",
              "      <th>...</th>\n",
              "      <td>...</td>\n",
              "      <td>...</td>\n",
              "      <td>...</td>\n",
              "      <td>...</td>\n",
              "      <td>...</td>\n",
              "      <td>...</td>\n",
              "      <td>...</td>\n",
              "      <td>...</td>\n",
              "    </tr>\n",
              "    <tr>\n",
              "      <th>972</th>\n",
              "      <td>female</td>\n",
              "      <td>group A</td>\n",
              "      <td>high school</td>\n",
              "      <td>free/reduced</td>\n",
              "      <td>completed</td>\n",
              "      <td>53</td>\n",
              "      <td>50</td>\n",
              "      <td>60</td>\n",
              "    </tr>\n",
              "    <tr>\n",
              "      <th>978</th>\n",
              "      <td>male</td>\n",
              "      <td>group D</td>\n",
              "      <td>high school</td>\n",
              "      <td>standard</td>\n",
              "      <td>completed</td>\n",
              "      <td>55</td>\n",
              "      <td>41</td>\n",
              "      <td>48</td>\n",
              "    </tr>\n",
              "    <tr>\n",
              "      <th>984</th>\n",
              "      <td>female</td>\n",
              "      <td>group C</td>\n",
              "      <td>some high school</td>\n",
              "      <td>standard</td>\n",
              "      <td>none</td>\n",
              "      <td>74</td>\n",
              "      <td>75</td>\n",
              "      <td>82</td>\n",
              "    </tr>\n",
              "    <tr>\n",
              "      <th>990</th>\n",
              "      <td>male</td>\n",
              "      <td>group E</td>\n",
              "      <td>high school</td>\n",
              "      <td>free/reduced</td>\n",
              "      <td>completed</td>\n",
              "      <td>86</td>\n",
              "      <td>81</td>\n",
              "      <td>75</td>\n",
              "    </tr>\n",
              "    <tr>\n",
              "      <th>996</th>\n",
              "      <td>male</td>\n",
              "      <td>group C</td>\n",
              "      <td>high school</td>\n",
              "      <td>free/reduced</td>\n",
              "      <td>none</td>\n",
              "      <td>62</td>\n",
              "      <td>55</td>\n",
              "      <td>55</td>\n",
              "    </tr>\n",
              "  </tbody>\n",
              "</table>\n",
              "<p>167 rows × 8 columns</p>\n",
              "</div>"
            ],
            "text/plain": [
              "     gender race/ethnicity  ... reading score writing score\n",
              "0    female        group B  ...            72            74\n",
              "6    female        group B  ...            95            92\n",
              "12   female        group B  ...            81            73\n",
              "18     male        group C  ...            42            46\n",
              "24     male        group D  ...            71            80\n",
              "..      ...            ...  ...           ...           ...\n",
              "972  female        group A  ...            50            60\n",
              "978    male        group D  ...            41            48\n",
              "984  female        group C  ...            75            82\n",
              "990    male        group E  ...            81            75\n",
              "996    male        group C  ...            55            55\n",
              "\n",
              "[167 rows x 8 columns]"
            ]
          },
          "metadata": {},
          "execution_count": 25
        }
      ]
    },
    {
      "cell_type": "code",
      "metadata": {
        "colab": {
          "base_uri": "https://localhost:8080/",
          "height": 417
        },
        "id": "RDFYa-t0yED-",
        "outputId": "8d29e272-9d6f-4682-e36c-057bee74b880"
      },
      "source": [
        "indices = np.arange(random.randint(1,30), len(d2), step=step_size)\n",
        "d2.iloc[indices]"
      ],
      "execution_count": null,
      "outputs": [
        {
          "output_type": "execute_result",
          "data": {
            "text/html": [
              "<div>\n",
              "<style scoped>\n",
              "    .dataframe tbody tr th:only-of-type {\n",
              "        vertical-align: middle;\n",
              "    }\n",
              "\n",
              "    .dataframe tbody tr th {\n",
              "        vertical-align: top;\n",
              "    }\n",
              "\n",
              "    .dataframe thead th {\n",
              "        text-align: right;\n",
              "    }\n",
              "</style>\n",
              "<table border=\"1\" class=\"dataframe\">\n",
              "  <thead>\n",
              "    <tr style=\"text-align: right;\">\n",
              "      <th></th>\n",
              "      <th>gender</th>\n",
              "      <th>race/ethnicity</th>\n",
              "      <th>parental level of education</th>\n",
              "      <th>lunch</th>\n",
              "      <th>test preparation course</th>\n",
              "      <th>math score</th>\n",
              "      <th>reading score</th>\n",
              "      <th>writing score</th>\n",
              "    </tr>\n",
              "  </thead>\n",
              "  <tbody>\n",
              "    <tr>\n",
              "      <th>1</th>\n",
              "      <td>female</td>\n",
              "      <td>group C</td>\n",
              "      <td>some college</td>\n",
              "      <td>standard</td>\n",
              "      <td>completed</td>\n",
              "      <td>69</td>\n",
              "      <td>90</td>\n",
              "      <td>88</td>\n",
              "    </tr>\n",
              "    <tr>\n",
              "      <th>7</th>\n",
              "      <td>male</td>\n",
              "      <td>group B</td>\n",
              "      <td>some college</td>\n",
              "      <td>free/reduced</td>\n",
              "      <td>none</td>\n",
              "      <td>40</td>\n",
              "      <td>43</td>\n",
              "      <td>39</td>\n",
              "    </tr>\n",
              "    <tr>\n",
              "      <th>13</th>\n",
              "      <td>male</td>\n",
              "      <td>group A</td>\n",
              "      <td>some college</td>\n",
              "      <td>standard</td>\n",
              "      <td>completed</td>\n",
              "      <td>78</td>\n",
              "      <td>72</td>\n",
              "      <td>70</td>\n",
              "    </tr>\n",
              "    <tr>\n",
              "      <th>19</th>\n",
              "      <td>female</td>\n",
              "      <td>group C</td>\n",
              "      <td>associate's degree</td>\n",
              "      <td>free/reduced</td>\n",
              "      <td>none</td>\n",
              "      <td>54</td>\n",
              "      <td>58</td>\n",
              "      <td>61</td>\n",
              "    </tr>\n",
              "    <tr>\n",
              "      <th>25</th>\n",
              "      <td>male</td>\n",
              "      <td>group A</td>\n",
              "      <td>master's degree</td>\n",
              "      <td>free/reduced</td>\n",
              "      <td>none</td>\n",
              "      <td>73</td>\n",
              "      <td>74</td>\n",
              "      <td>72</td>\n",
              "    </tr>\n",
              "    <tr>\n",
              "      <th>...</th>\n",
              "      <td>...</td>\n",
              "      <td>...</td>\n",
              "      <td>...</td>\n",
              "      <td>...</td>\n",
              "      <td>...</td>\n",
              "      <td>...</td>\n",
              "      <td>...</td>\n",
              "      <td>...</td>\n",
              "    </tr>\n",
              "    <tr>\n",
              "      <th>973</th>\n",
              "      <td>female</td>\n",
              "      <td>group D</td>\n",
              "      <td>some college</td>\n",
              "      <td>free/reduced</td>\n",
              "      <td>none</td>\n",
              "      <td>49</td>\n",
              "      <td>65</td>\n",
              "      <td>61</td>\n",
              "    </tr>\n",
              "    <tr>\n",
              "      <th>979</th>\n",
              "      <td>female</td>\n",
              "      <td>group C</td>\n",
              "      <td>associate's degree</td>\n",
              "      <td>standard</td>\n",
              "      <td>none</td>\n",
              "      <td>91</td>\n",
              "      <td>95</td>\n",
              "      <td>94</td>\n",
              "    </tr>\n",
              "    <tr>\n",
              "      <th>985</th>\n",
              "      <td>male</td>\n",
              "      <td>group A</td>\n",
              "      <td>high school</td>\n",
              "      <td>standard</td>\n",
              "      <td>none</td>\n",
              "      <td>57</td>\n",
              "      <td>51</td>\n",
              "      <td>54</td>\n",
              "    </tr>\n",
              "    <tr>\n",
              "      <th>991</th>\n",
              "      <td>female</td>\n",
              "      <td>group B</td>\n",
              "      <td>some high school</td>\n",
              "      <td>standard</td>\n",
              "      <td>completed</td>\n",
              "      <td>65</td>\n",
              "      <td>82</td>\n",
              "      <td>78</td>\n",
              "    </tr>\n",
              "    <tr>\n",
              "      <th>997</th>\n",
              "      <td>female</td>\n",
              "      <td>group C</td>\n",
              "      <td>high school</td>\n",
              "      <td>free/reduced</td>\n",
              "      <td>completed</td>\n",
              "      <td>59</td>\n",
              "      <td>71</td>\n",
              "      <td>65</td>\n",
              "    </tr>\n",
              "  </tbody>\n",
              "</table>\n",
              "<p>167 rows × 8 columns</p>\n",
              "</div>"
            ],
            "text/plain": [
              "     gender race/ethnicity  ... reading score writing score\n",
              "1    female        group C  ...            90            88\n",
              "7      male        group B  ...            43            39\n",
              "13     male        group A  ...            72            70\n",
              "19   female        group C  ...            58            61\n",
              "25     male        group A  ...            74            72\n",
              "..      ...            ...  ...           ...           ...\n",
              "973  female        group D  ...            65            61\n",
              "979  female        group C  ...            95            94\n",
              "985    male        group A  ...            51            54\n",
              "991  female        group B  ...            82            78\n",
              "997  female        group C  ...            71            65\n",
              "\n",
              "[167 rows x 8 columns]"
            ]
          },
          "metadata": {},
          "execution_count": 28
        }
      ]
    },
    {
      "cell_type": "markdown",
      "metadata": {
        "id": "HYUyPMPzsZxm"
      },
      "source": [
        "# Frequency Distribution"
      ]
    },
    {
      "cell_type": "markdown",
      "metadata": {
        "id": "ImWogy3LtiX8"
      },
      "source": [
        "## Range"
      ]
    },
    {
      "cell_type": "code",
      "metadata": {
        "colab": {
          "base_uri": "https://localhost:8080/"
        },
        "id": "6anD7nczzD5I",
        "outputId": "3c75b54c-cf53-40a9-b384-424df5e855eb"
      },
      "source": [
        "read_range = np.amax(d2['reading score'])-np.amin(d2['reading score'])\n",
        "read_range"
      ],
      "execution_count": null,
      "outputs": [
        {
          "output_type": "execute_result",
          "data": {
            "text/plain": [
              "83"
            ]
          },
          "metadata": {},
          "execution_count": 31
        }
      ]
    },
    {
      "cell_type": "markdown",
      "metadata": {
        "id": "0EMmDkvqtxjf"
      },
      "source": [
        "## Number of classes"
      ]
    },
    {
      "cell_type": "code",
      "metadata": {
        "id": "qIj4iC_rzPHk"
      },
      "source": [
        "num_of_classes = 6"
      ],
      "execution_count": null,
      "outputs": []
    },
    {
      "cell_type": "markdown",
      "metadata": {
        "id": "TVqPbaSdtrDj"
      },
      "source": [
        "## Class Interval"
      ]
    },
    {
      "cell_type": "code",
      "metadata": {
        "colab": {
          "base_uri": "https://localhost:8080/"
        },
        "id": "hh_YHzKMzY31",
        "outputId": "59afa8a8-478b-4414-8303-ac7769008a20"
      },
      "source": [
        "class_interval = read_range/num_of_classes\n",
        "class_interval"
      ],
      "execution_count": null,
      "outputs": [
        {
          "output_type": "execute_result",
          "data": {
            "text/plain": [
              "13.833333333333334"
            ]
          },
          "metadata": {},
          "execution_count": 34
        }
      ]
    },
    {
      "cell_type": "markdown",
      "metadata": {
        "id": "7N3JRuSgt6mA"
      },
      "source": [
        "## Class Midpoint"
      ]
    },
    {
      "cell_type": "markdown",
      "metadata": {
        "id": "uZXv5d-ktrL5"
      },
      "source": [
        "## Relative Frequency"
      ]
    },
    {
      "cell_type": "code",
      "metadata": {
        "colab": {
          "base_uri": "https://localhost:8080/"
        },
        "id": "gtJA-nDjzo7U",
        "outputId": "1e5c9d83-1dd9-484d-ecf1-bbd000d911e9"
      },
      "source": [
        "d2['reading score'].value_counts()"
      ],
      "execution_count": null,
      "outputs": [
        {
          "output_type": "execute_result",
          "data": {
            "text/plain": [
              "72    34\n",
              "74    33\n",
              "64    32\n",
              "73    30\n",
              "67    30\n",
              "      ..\n",
              "32     1\n",
              "28     1\n",
              "26     1\n",
              "23     1\n",
              "17     1\n",
              "Name: reading score, Length: 72, dtype: int64"
            ]
          },
          "metadata": {},
          "execution_count": 35
        }
      ]
    },
    {
      "cell_type": "markdown",
      "metadata": {
        "id": "vj0zQS4fuGkZ"
      },
      "source": [
        "## Cumulative Frequency"
      ]
    },
    {
      "cell_type": "code",
      "metadata": {
        "colab": {
          "base_uri": "https://localhost:8080/"
        },
        "id": "FQdtlWN0zz-E",
        "outputId": "2b4f0c8b-c8bc-4029-b69a-ccbdf52d4ed9"
      },
      "source": [
        "d2['reading score'].value_counts().cumsum()"
      ],
      "execution_count": null,
      "outputs": [
        {
          "output_type": "execute_result",
          "data": {
            "text/plain": [
              "72      34\n",
              "74      67\n",
              "64      99\n",
              "73     129\n",
              "67     159\n",
              "      ... \n",
              "32     996\n",
              "28     997\n",
              "26     998\n",
              "23     999\n",
              "17    1000\n",
              "Name: reading score, Length: 72, dtype: int64"
            ]
          },
          "metadata": {},
          "execution_count": 36
        }
      ]
    },
    {
      "cell_type": "markdown",
      "metadata": {
        "id": "O5a7z2kArTMA"
      },
      "source": [
        "# Measures of central tendency"
      ]
    },
    {
      "cell_type": "markdown",
      "metadata": {
        "id": "owaI2CtCtk3n"
      },
      "source": [
        "## Mean"
      ]
    },
    {
      "cell_type": "code",
      "metadata": {
        "id": "MfmIfkPnu07f",
        "colab": {
          "base_uri": "https://localhost:8080/"
        },
        "outputId": "0deb1fed-2a40-48bf-f02e-736ec2a23549"
      },
      "source": [
        "d2.mean()"
      ],
      "execution_count": null,
      "outputs": [
        {
          "output_type": "execute_result",
          "data": {
            "text/plain": [
              "math score       66.089\n",
              "reading score    69.169\n",
              "writing score    68.054\n",
              "dtype: float64"
            ]
          },
          "metadata": {},
          "execution_count": 37
        }
      ]
    },
    {
      "cell_type": "markdown",
      "metadata": {
        "id": "dHPWWuSAuuvO"
      },
      "source": [
        "## Median"
      ]
    },
    {
      "cell_type": "code",
      "metadata": {
        "colab": {
          "base_uri": "https://localhost:8080/"
        },
        "id": "IpThMMy4z76Z",
        "outputId": "117353ba-52cd-4576-e1e3-69a7ada7c564"
      },
      "source": [
        "d2['reading score'].median()"
      ],
      "execution_count": null,
      "outputs": [
        {
          "output_type": "execute_result",
          "data": {
            "text/plain": [
              "70.0"
            ]
          },
          "metadata": {},
          "execution_count": 38
        }
      ]
    },
    {
      "cell_type": "markdown",
      "metadata": {
        "id": "0yLl_8r6u_Dm"
      },
      "source": [
        "## Mode"
      ]
    },
    {
      "cell_type": "code",
      "metadata": {
        "colab": {
          "base_uri": "https://localhost:8080/"
        },
        "id": "cFfEdE3I0BM_",
        "outputId": "a26c4742-1729-4d52-dc6c-72179ff8680b"
      },
      "source": [
        "d2['reading score'].mode()"
      ],
      "execution_count": null,
      "outputs": [
        {
          "output_type": "execute_result",
          "data": {
            "text/plain": [
              "0    72\n",
              "dtype: int64"
            ]
          },
          "metadata": {},
          "execution_count": 39
        }
      ]
    },
    {
      "cell_type": "markdown",
      "metadata": {
        "id": "IJtSjhl5u_O3"
      },
      "source": [
        "## Percentile"
      ]
    },
    {
      "cell_type": "code",
      "metadata": {
        "colab": {
          "base_uri": "https://localhost:8080/"
        },
        "id": "aMLPXr5D0HFA",
        "outputId": "9a5edc53-0344-486d-c71e-26788b8db612"
      },
      "source": [
        "d2.quantile(.2, axis=0)"
      ],
      "execution_count": null,
      "outputs": [
        {
          "output_type": "execute_result",
          "data": {
            "text/plain": [
              "math score       53.0\n",
              "reading score    57.0\n",
              "writing score    54.0\n",
              "Name: 0.2, dtype: float64"
            ]
          },
          "metadata": {},
          "execution_count": 40
        }
      ]
    },
    {
      "cell_type": "code",
      "metadata": {
        "colab": {
          "base_uri": "https://localhost:8080/",
          "height": 172
        },
        "id": "N72XvYBl0NiM",
        "outputId": "5d968b30-2c66-4529-b664-c09cd55b690a"
      },
      "source": [
        "d2.quantile([.1,.3,.63,.95], axis=0)"
      ],
      "execution_count": null,
      "outputs": [
        {
          "output_type": "execute_result",
          "data": {
            "text/html": [
              "<div>\n",
              "<style scoped>\n",
              "    .dataframe tbody tr th:only-of-type {\n",
              "        vertical-align: middle;\n",
              "    }\n",
              "\n",
              "    .dataframe tbody tr th {\n",
              "        vertical-align: top;\n",
              "    }\n",
              "\n",
              "    .dataframe thead th {\n",
              "        text-align: right;\n",
              "    }\n",
              "</style>\n",
              "<table border=\"1\" class=\"dataframe\">\n",
              "  <thead>\n",
              "    <tr style=\"text-align: right;\">\n",
              "      <th></th>\n",
              "      <th>math score</th>\n",
              "      <th>reading score</th>\n",
              "      <th>writing score</th>\n",
              "    </tr>\n",
              "  </thead>\n",
              "  <tbody>\n",
              "    <tr>\n",
              "      <th>0.10</th>\n",
              "      <td>47.00</td>\n",
              "      <td>51.00</td>\n",
              "      <td>48.0</td>\n",
              "    </tr>\n",
              "    <tr>\n",
              "      <th>0.30</th>\n",
              "      <td>59.00</td>\n",
              "      <td>62.00</td>\n",
              "      <td>60.0</td>\n",
              "    </tr>\n",
              "    <tr>\n",
              "      <th>0.63</th>\n",
              "      <td>71.00</td>\n",
              "      <td>74.37</td>\n",
              "      <td>74.0</td>\n",
              "    </tr>\n",
              "    <tr>\n",
              "      <th>0.95</th>\n",
              "      <td>90.05</td>\n",
              "      <td>92.00</td>\n",
              "      <td>92.0</td>\n",
              "    </tr>\n",
              "  </tbody>\n",
              "</table>\n",
              "</div>"
            ],
            "text/plain": [
              "      math score  reading score  writing score\n",
              "0.10       47.00          51.00           48.0\n",
              "0.30       59.00          62.00           60.0\n",
              "0.63       71.00          74.37           74.0\n",
              "0.95       90.05          92.00           92.0"
            ]
          },
          "metadata": {},
          "execution_count": 41
        }
      ]
    },
    {
      "cell_type": "markdown",
      "metadata": {
        "id": "fqdvXZNGu_fi"
      },
      "source": [
        "## Quartile"
      ]
    },
    {
      "cell_type": "code",
      "metadata": {
        "colab": {
          "base_uri": "https://localhost:8080/",
          "height": 142
        },
        "id": "0Yh8QVKb0YCU",
        "outputId": "058e3ab2-1090-43dc-b33d-21c24275d225"
      },
      "source": [
        "d2.quantile([.25, .50, .75], axis=0)"
      ],
      "execution_count": null,
      "outputs": [
        {
          "output_type": "execute_result",
          "data": {
            "text/html": [
              "<div>\n",
              "<style scoped>\n",
              "    .dataframe tbody tr th:only-of-type {\n",
              "        vertical-align: middle;\n",
              "    }\n",
              "\n",
              "    .dataframe tbody tr th {\n",
              "        vertical-align: top;\n",
              "    }\n",
              "\n",
              "    .dataframe thead th {\n",
              "        text-align: right;\n",
              "    }\n",
              "</style>\n",
              "<table border=\"1\" class=\"dataframe\">\n",
              "  <thead>\n",
              "    <tr style=\"text-align: right;\">\n",
              "      <th></th>\n",
              "      <th>math score</th>\n",
              "      <th>reading score</th>\n",
              "      <th>writing score</th>\n",
              "    </tr>\n",
              "  </thead>\n",
              "  <tbody>\n",
              "    <tr>\n",
              "      <th>0.25</th>\n",
              "      <td>57.0</td>\n",
              "      <td>59.0</td>\n",
              "      <td>57.75</td>\n",
              "    </tr>\n",
              "    <tr>\n",
              "      <th>0.50</th>\n",
              "      <td>66.0</td>\n",
              "      <td>70.0</td>\n",
              "      <td>69.00</td>\n",
              "    </tr>\n",
              "    <tr>\n",
              "      <th>0.75</th>\n",
              "      <td>77.0</td>\n",
              "      <td>79.0</td>\n",
              "      <td>79.00</td>\n",
              "    </tr>\n",
              "  </tbody>\n",
              "</table>\n",
              "</div>"
            ],
            "text/plain": [
              "      math score  reading score  writing score\n",
              "0.25        57.0           59.0          57.75\n",
              "0.50        66.0           70.0          69.00\n",
              "0.75        77.0           79.0          79.00"
            ]
          },
          "metadata": {},
          "execution_count": 42
        }
      ]
    },
    {
      "cell_type": "markdown",
      "metadata": {
        "id": "679ByOC5vOTK"
      },
      "source": [
        "## Recap of pandas describe()"
      ]
    },
    {
      "cell_type": "code",
      "metadata": {
        "colab": {
          "base_uri": "https://localhost:8080/",
          "height": 295
        },
        "id": "rMfUXKbl0dGQ",
        "outputId": "003577c1-4ac7-4dbb-aaeb-2c69b6d44e86"
      },
      "source": [
        "d2.describe()"
      ],
      "execution_count": null,
      "outputs": [
        {
          "output_type": "execute_result",
          "data": {
            "text/html": [
              "<div>\n",
              "<style scoped>\n",
              "    .dataframe tbody tr th:only-of-type {\n",
              "        vertical-align: middle;\n",
              "    }\n",
              "\n",
              "    .dataframe tbody tr th {\n",
              "        vertical-align: top;\n",
              "    }\n",
              "\n",
              "    .dataframe thead th {\n",
              "        text-align: right;\n",
              "    }\n",
              "</style>\n",
              "<table border=\"1\" class=\"dataframe\">\n",
              "  <thead>\n",
              "    <tr style=\"text-align: right;\">\n",
              "      <th></th>\n",
              "      <th>math score</th>\n",
              "      <th>reading score</th>\n",
              "      <th>writing score</th>\n",
              "    </tr>\n",
              "  </thead>\n",
              "  <tbody>\n",
              "    <tr>\n",
              "      <th>count</th>\n",
              "      <td>1000.00000</td>\n",
              "      <td>1000.000000</td>\n",
              "      <td>1000.000000</td>\n",
              "    </tr>\n",
              "    <tr>\n",
              "      <th>mean</th>\n",
              "      <td>66.08900</td>\n",
              "      <td>69.169000</td>\n",
              "      <td>68.054000</td>\n",
              "    </tr>\n",
              "    <tr>\n",
              "      <th>std</th>\n",
              "      <td>15.16308</td>\n",
              "      <td>14.600192</td>\n",
              "      <td>15.195657</td>\n",
              "    </tr>\n",
              "    <tr>\n",
              "      <th>min</th>\n",
              "      <td>0.00000</td>\n",
              "      <td>17.000000</td>\n",
              "      <td>10.000000</td>\n",
              "    </tr>\n",
              "    <tr>\n",
              "      <th>25%</th>\n",
              "      <td>57.00000</td>\n",
              "      <td>59.000000</td>\n",
              "      <td>57.750000</td>\n",
              "    </tr>\n",
              "    <tr>\n",
              "      <th>50%</th>\n",
              "      <td>66.00000</td>\n",
              "      <td>70.000000</td>\n",
              "      <td>69.000000</td>\n",
              "    </tr>\n",
              "    <tr>\n",
              "      <th>75%</th>\n",
              "      <td>77.00000</td>\n",
              "      <td>79.000000</td>\n",
              "      <td>79.000000</td>\n",
              "    </tr>\n",
              "    <tr>\n",
              "      <th>max</th>\n",
              "      <td>100.00000</td>\n",
              "      <td>100.000000</td>\n",
              "      <td>100.000000</td>\n",
              "    </tr>\n",
              "  </tbody>\n",
              "</table>\n",
              "</div>"
            ],
            "text/plain": [
              "       math score  reading score  writing score\n",
              "count  1000.00000    1000.000000    1000.000000\n",
              "mean     66.08900      69.169000      68.054000\n",
              "std      15.16308      14.600192      15.195657\n",
              "min       0.00000      17.000000      10.000000\n",
              "25%      57.00000      59.000000      57.750000\n",
              "50%      66.00000      70.000000      69.000000\n",
              "75%      77.00000      79.000000      79.000000\n",
              "max     100.00000     100.000000     100.000000"
            ]
          },
          "metadata": {},
          "execution_count": 43
        }
      ]
    },
    {
      "cell_type": "markdown",
      "metadata": {
        "id": "QOP-97L24WAx"
      },
      "source": [
        "# Measures of variance"
      ]
    },
    {
      "cell_type": "code",
      "metadata": {
        "colab": {
          "base_uri": "https://localhost:8080/",
          "height": 203
        },
        "id": "aMw-Izpk0hbq",
        "outputId": "e78ec911-85f2-4bbe-81bb-d7664cddae23"
      },
      "source": [
        "d3 = pd.read_csv('https://raw.githubusercontent.com/dayanandv/Data-Science/main/dataset/nba.csv')\n",
        "d3.head()"
      ],
      "execution_count": null,
      "outputs": [
        {
          "output_type": "execute_result",
          "data": {
            "text/html": [
              "<div>\n",
              "<style scoped>\n",
              "    .dataframe tbody tr th:only-of-type {\n",
              "        vertical-align: middle;\n",
              "    }\n",
              "\n",
              "    .dataframe tbody tr th {\n",
              "        vertical-align: top;\n",
              "    }\n",
              "\n",
              "    .dataframe thead th {\n",
              "        text-align: right;\n",
              "    }\n",
              "</style>\n",
              "<table border=\"1\" class=\"dataframe\">\n",
              "  <thead>\n",
              "    <tr style=\"text-align: right;\">\n",
              "      <th></th>\n",
              "      <th>Name</th>\n",
              "      <th>Team</th>\n",
              "      <th>Number</th>\n",
              "      <th>Position</th>\n",
              "      <th>Age</th>\n",
              "      <th>Height</th>\n",
              "      <th>Weight</th>\n",
              "      <th>College</th>\n",
              "      <th>Salary</th>\n",
              "    </tr>\n",
              "  </thead>\n",
              "  <tbody>\n",
              "    <tr>\n",
              "      <th>0</th>\n",
              "      <td>Avery Bradley</td>\n",
              "      <td>Boston Celtics</td>\n",
              "      <td>0.0</td>\n",
              "      <td>PG</td>\n",
              "      <td>25.0</td>\n",
              "      <td>6-2</td>\n",
              "      <td>180.0</td>\n",
              "      <td>Texas</td>\n",
              "      <td>7730337.0</td>\n",
              "    </tr>\n",
              "    <tr>\n",
              "      <th>1</th>\n",
              "      <td>Jae Crowder</td>\n",
              "      <td>Boston Celtics</td>\n",
              "      <td>99.0</td>\n",
              "      <td>SF</td>\n",
              "      <td>25.0</td>\n",
              "      <td>6-6</td>\n",
              "      <td>235.0</td>\n",
              "      <td>Marquette</td>\n",
              "      <td>6796117.0</td>\n",
              "    </tr>\n",
              "    <tr>\n",
              "      <th>2</th>\n",
              "      <td>John Holland</td>\n",
              "      <td>Boston Celtics</td>\n",
              "      <td>30.0</td>\n",
              "      <td>SG</td>\n",
              "      <td>27.0</td>\n",
              "      <td>6-5</td>\n",
              "      <td>205.0</td>\n",
              "      <td>Boston University</td>\n",
              "      <td>NaN</td>\n",
              "    </tr>\n",
              "    <tr>\n",
              "      <th>3</th>\n",
              "      <td>R.J. Hunter</td>\n",
              "      <td>Boston Celtics</td>\n",
              "      <td>28.0</td>\n",
              "      <td>SG</td>\n",
              "      <td>22.0</td>\n",
              "      <td>6-5</td>\n",
              "      <td>185.0</td>\n",
              "      <td>Georgia State</td>\n",
              "      <td>1148640.0</td>\n",
              "    </tr>\n",
              "    <tr>\n",
              "      <th>4</th>\n",
              "      <td>Jonas Jerebko</td>\n",
              "      <td>Boston Celtics</td>\n",
              "      <td>8.0</td>\n",
              "      <td>PF</td>\n",
              "      <td>29.0</td>\n",
              "      <td>6-10</td>\n",
              "      <td>231.0</td>\n",
              "      <td>NaN</td>\n",
              "      <td>5000000.0</td>\n",
              "    </tr>\n",
              "  </tbody>\n",
              "</table>\n",
              "</div>"
            ],
            "text/plain": [
              "            Name            Team  Number  ... Weight            College     Salary\n",
              "0  Avery Bradley  Boston Celtics     0.0  ...  180.0              Texas  7730337.0\n",
              "1    Jae Crowder  Boston Celtics    99.0  ...  235.0          Marquette  6796117.0\n",
              "2   John Holland  Boston Celtics    30.0  ...  205.0  Boston University        NaN\n",
              "3    R.J. Hunter  Boston Celtics    28.0  ...  185.0      Georgia State  1148640.0\n",
              "4  Jonas Jerebko  Boston Celtics     8.0  ...  231.0                NaN  5000000.0\n",
              "\n",
              "[5 rows x 9 columns]"
            ]
          },
          "metadata": {},
          "execution_count": 44
        }
      ]
    },
    {
      "cell_type": "markdown",
      "metadata": {
        "id": "yExmHScb4an9"
      },
      "source": [
        "## Skewness"
      ]
    },
    {
      "cell_type": "code",
      "metadata": {
        "colab": {
          "base_uri": "https://localhost:8080/"
        },
        "id": "kEy2qzPC0mHI",
        "outputId": "c5547701-7da8-4ee5-b683-e8e54f259527"
      },
      "source": [
        "d3.skew()"
      ],
      "execution_count": null,
      "outputs": [
        {
          "output_type": "execute_result",
          "data": {
            "text/plain": [
              "Number    1.668386\n",
              "Age       0.626349\n",
              "Weight    0.113788\n",
              "Salary    1.576321\n",
              "dtype: float64"
            ]
          },
          "metadata": {},
          "execution_count": 45
        }
      ]
    },
    {
      "cell_type": "code",
      "metadata": {
        "colab": {
          "base_uri": "https://localhost:8080/",
          "height": 295
        },
        "id": "zUrrwoO-0nnh",
        "outputId": "3a793bfc-4807-45eb-b70b-a872061a13cf"
      },
      "source": [
        "d3['Salary'].sort_values().hist().plot(use_index = False)"
      ],
      "execution_count": null,
      "outputs": [
        {
          "output_type": "execute_result",
          "data": {
            "text/plain": [
              "[]"
            ]
          },
          "metadata": {},
          "execution_count": 46
        },
        {
          "output_type": "display_data",
          "data": {
            "image/png": "[encoded data removed]",
            "text/plain": [
              "<Figure size 432x288 with 1 Axes>"
            ]
          },
          "metadata": {
            "needs_background": "light"
          }
        }
      ]
    },
    {
      "cell_type": "markdown",
      "metadata": {
        "id": "6DeSTPyK4cmP"
      },
      "source": [
        "## Kurtosis"
      ]
    },
    {
      "cell_type": "code",
      "metadata": {
        "colab": {
          "base_uri": "https://localhost:8080/"
        },
        "id": "x1AlMBrU0sOE",
        "outputId": "41541898-988e-475a-c55b-10f938395059"
      },
      "source": [
        "d3.kurt()"
      ],
      "execution_count": null,
      "outputs": [
        {
          "output_type": "execute_result",
          "data": {
            "text/plain": [
              "Number    4.364464\n",
              "Age      -0.051119\n",
              "Weight   -0.552546\n",
              "Salary    1.839177\n",
              "dtype: float64"
            ]
          },
          "metadata": {},
          "execution_count": 47
        }
      ]
    }
  ]
}